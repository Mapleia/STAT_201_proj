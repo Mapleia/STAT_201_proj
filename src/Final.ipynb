{
 "cells": [
  {
   "cell_type": "markdown",
   "id": "e997cbaf-043b-46b1-8ce5-af0dc7f529c7",
   "metadata": {},
   "source": [
    "# The Correlative Relationship Between Average Total Area Burned  by Wildfire and Wind Speed"
   ]
  },
  {
   "cell_type": "markdown",
   "id": "9bd4cfc7-d222-40c1-beb9-57dd675a3f9c",
   "metadata": {},
   "source": [
    "## Introduction"
   ]
  },
  {
   "cell_type": "markdown",
   "id": "0c666c50-d987-4b3d-b912-108ab11e533e",
   "metadata": {},
   "source": [
    "Wildfires are a dangerous and incredibly destructive phenomenon of nature, which makes understanding and predicting them perimount to curbing their destructive potential in the future. However, there are innumerable factors to consider when trying to predict the effects of a wildfire. Of the two “most important” factors in how wildfires are spread, wind speed is “the most variable and the least predictable.” However, in spite of its variability, its predictive power is immense. So much so that there exists a simple “10% rule” that approximates a wildfire's rate of spread simply through “10% of the average 10-m open wind speed.” This simple model can produce results “comparable to those obtained by the established fire spread rate models” while only accounting for the wind speed factor.\n",
    "\n",
    "For our project we aim to put the literature to the test and see just how powerful a factor wind speed truly is for ourselves. We aim to answer the question “What is the difference in average total area burned by a wildfire between times of low wind speed and times of high wind speed?” We would also like to approximate the standard deviation of this difference to see if the results are consistently statistically significant. To answer our question, we have made use of a dataset containing data of the total area burned from 517 forest fires in the northeastern region of Portugal. This dataset also includes the wind speed among other less relevant variables."
   ]
  },
  {
   "cell_type": "markdown",
   "id": "f3562c72-7646-4faf-b442-87b3f47cbab4",
   "metadata": {},
   "source": [
    "## Preliminary Results"
   ]
  },
  {
   "cell_type": "code",
   "execution_count": 15,
   "id": "bf379e22-e2e4-4dd4-85a9-68072514d706",
   "metadata": {
    "vscode": {
     "languageId": "r"
    }
   },
   "outputs": [],
   "source": [
    "# Load the necessary packages.\n",
    "library(GGally)\n",
    "library(tidyverse)\n",
    "library(infer)\n",
    "library(cowplot)\n",
    "library(broom)"
   ]
  },
  {
   "cell_type": "code",
   "execution_count": 16,
   "id": "8cbd2b04-23e6-46d3-b44c-06c859cc8466",
   "metadata": {
    "vscode": {
     "languageId": "r"
    }
   },
   "outputs": [
    {
     "name": "stderr",
     "output_type": "stream",
     "text": [
      "\u001b[1mRows: \u001b[22m\u001b[34m517\u001b[39m \u001b[1mColumns: \u001b[22m\u001b[34m13\u001b[39m\n",
      "\u001b[36m--\u001b[39m \u001b[1mColumn specification\u001b[22m \u001b[36m------------------------------------------------------------------------------------------------\u001b[39m\n",
      "\u001b[1mDelimiter:\u001b[22m \",\"\n",
      "\u001b[31mchr\u001b[39m  (2): month, day\n",
      "\u001b[32mdbl\u001b[39m (11): X, Y, FFMC, DMC, DC, ISI, temp, RH, wind, rain, area\n",
      "\n",
      "\u001b[36mi\u001b[39m Use `spec()` to retrieve the full column specification for this data.\n",
      "\u001b[36mi\u001b[39m Specify the column types or set `show_col_types = FALSE` to quiet this message.\n"
     ]
    },
    {
     "data": {
      "text/html": [
       "<table class=\"dataframe\">\n",
       "<caption>A tibble: 6 × 2</caption>\n",
       "<thead>\n",
       "\t<tr><th scope=col>wind</th><th scope=col>area</th></tr>\n",
       "\t<tr><th scope=col>&lt;dbl&gt;</th><th scope=col>&lt;dbl&gt;</th></tr>\n",
       "</thead>\n",
       "<tbody>\n",
       "\t<tr><td>6.7</td><td>0</td></tr>\n",
       "\t<tr><td>0.9</td><td>0</td></tr>\n",
       "\t<tr><td>1.3</td><td>0</td></tr>\n",
       "\t<tr><td>4.0</td><td>0</td></tr>\n",
       "\t<tr><td>1.8</td><td>0</td></tr>\n",
       "\t<tr><td>5.4</td><td>0</td></tr>\n",
       "</tbody>\n",
       "</table>\n"
      ],
      "text/latex": [
       "A tibble: 6 × 2\n",
       "\\begin{tabular}{ll}\n",
       " wind & area\\\\\n",
       " <dbl> & <dbl>\\\\\n",
       "\\hline\n",
       "\t 6.7 & 0\\\\\n",
       "\t 0.9 & 0\\\\\n",
       "\t 1.3 & 0\\\\\n",
       "\t 4.0 & 0\\\\\n",
       "\t 1.8 & 0\\\\\n",
       "\t 5.4 & 0\\\\\n",
       "\\end{tabular}\n"
      ],
      "text/markdown": [
       "\n",
       "A tibble: 6 × 2\n",
       "\n",
       "| wind &lt;dbl&gt; | area &lt;dbl&gt; |\n",
       "|---|---|\n",
       "| 6.7 | 0 |\n",
       "| 0.9 | 0 |\n",
       "| 1.3 | 0 |\n",
       "| 4.0 | 0 |\n",
       "| 1.8 | 0 |\n",
       "| 5.4 | 0 |\n",
       "\n"
      ],
      "text/plain": [
       "  wind area\n",
       "1 6.7  0   \n",
       "2 0.9  0   \n",
       "3 1.3  0   \n",
       "4 4.0  0   \n",
       "5 1.8  0   \n",
       "6 5.4  0   "
      ]
     },
     "metadata": {},
     "output_type": "display_data"
    }
   ],
   "source": [
    "#Setting the seed.\n",
    "set.seed(1234)\n",
    "\n",
    "#Dowloading the data from the web and reading it in R.\n",
    "url <- \"https://archive.ics.uci.edu/ml/machine-learning-databases/forest-fires/forestfires.csv\"\n",
    "\n",
    "filepath <- \"../data/forestfires.csv\"\n",
    "\n",
    "# download the file if its not present\n",
    "if (!file.exists(filepath)) {\n",
    "    download.file(url, filepath)\n",
    "}\n",
    "\n",
    "# select the columns we need, and filter out NA values\n",
    "forest_fires_data <-read_delim(filepath, skip=0, delim=\",\") %>%\n",
    "    select(wind, area) %>%\n",
    "    mutate(wind = as.numeric(wind), area = as.numeric(area)) %>% #Wrangling data and selecting columns to be used in prediction\n",
    "    filter(!is.na(wind) | !is.na(area))\n",
    "    \n",
    "head(forest_fires_data)"
   ]
  },
  {
   "cell_type": "markdown",
   "id": "7e77b512-2949-408f-884c-e9bbdb526309",
   "metadata": {},
   "source": [
    "### Wind Speed Distributions"
   ]
  },
  {
   "cell_type": "code",
   "execution_count": 17,
   "id": "589e1b7f-44d3-4948-bea4-d40bc05c3b1f",
   "metadata": {
    "vscode": {
     "languageId": "r"
    }
   },
   "outputs": [
    {
     "data": {
      "image/png": "[encoded data removed]",
      "text/plain": [
       "plot without title"
      ]
     },
     "metadata": {
      "image/png": {
       "height": 240,
       "width": 360
      }
     },
     "output_type": "display_data"
    }
   ],
   "source": [
    "options(repr.plot.width = 6, repr.plot.height = 4)\n",
    "\n",
    "## Plotting out the distribution of the wind speeds from the data\n",
    "wind_speed_plot <- forest_fires_data %>%\n",
    "    ggplot(aes(x = wind))+\n",
    "    geom_histogram(binwidth = 0.8) + \n",
    "    labs(x=\"Wind Speed (km/h)\", y=\"Count\")+\n",
    "    ggtitle(\"Figure 1: Wind Speed Distribution\") +\n",
    "    scale_fill_discrete(name = \"Month of Fires\")+\n",
    "    theme(text = element_text(size = 11)) \n",
    "\n",
    "wind_speed_plot"
   ]
  },
  {
   "cell_type": "markdown",
   "id": "7c4a5577-69d6-4df4-86bb-ef829401c305",
   "metadata": {},
   "source": [
    "In Figure 1 we can see that the distribution follows a bimodal distribution. This allows us to use the two peaks as reference as to whether or not any particular windspeed should be classified as either \"high\" speed or \"low\" speed."
   ]
  },
  {
   "cell_type": "code",
   "execution_count": 18,
   "id": "2b5b1fe9-4428-4815-bc00-1f4c7f6a8076",
   "metadata": {
    "vscode": {
     "languageId": "r"
    }
   },
   "outputs": [
    {
     "data": {
      "image/png": "[encoded data removed]",
      "text/plain": [
       "plot without title"
      ]
     },
     "metadata": {
      "image/png": {
       "height": 240,
       "width": 660
      }
     },
     "output_type": "display_data"
    }
   ],
   "source": [
    "xs <- quantile(forest_fires_data$wind,c(0,1/2,1))\n",
    "\n",
    "## adding the category column\n",
    "forest_fires_data <- forest_fires_data %>%\n",
    "    mutate(category=cut(wind, breaks=xs, labels=c(\"low\",\"high\"),include.lowest = TRUE))\n",
    "\n",
    "## visualizing the split between \"high\" and \"low\" windspeed\n",
    "wind_plot_categorized <- forest_fires_data %>%\n",
    "    ggplot(aes(x = wind, fill = category))+\n",
    "    geom_histogram(binwidth = 0.8) + \n",
    "    labs(x = \"Wind Speed\", y=\"Count\")+\n",
    "    ggtitle(\"Figure 2: Wind Speed Distribution\") +\n",
    "    scale_fill_discrete(name = \"Wind Speed Category\") +\n",
    "    theme(text = element_text(size = 12)) + \n",
    "    geom_vline(aes(xintercept = quantile(wind)[3]))\n",
    "\n",
    "## creating boxplot for \"high\" and \"low\" windspeeds distributions\n",
    "box_plot <- forest_fires_data %>%\n",
    "  ggplot(aes(x = category, y = wind, fill = category)) +\n",
    "  geom_boxplot() +\n",
    "  labs(x=\"Wind Speed Category\", y=\"Wind Speed\") +\n",
    "  ggtitle(\"Figure 3: Boxplot of Wind Speed by Category\") \n",
    "\n",
    "options(repr.plot.width = 11, repr.plot.height = 4)\n",
    "plot_grid(wind_plot_categorized, box_plot)"
   ]
  },
  {
   "cell_type": "markdown",
   "id": "098759b1-71d4-442f-8005-69f8f43a3623",
   "metadata": {},
   "source": [
    "Figure 2 simply visualizes how the high-low split looks like. Figure 3 is reiterating the same information but with a box plot instead. Due to the manner by which we deriaved the high and low catagories, there's no overlap between the two of them."
   ]
  },
  {
   "cell_type": "markdown",
   "id": "817a85bc-1a1e-4e1d-911d-6f34f193f290",
   "metadata": {},
   "source": [
    "### Area Burned Distributions"
   ]
  },
  {
   "cell_type": "code",
   "execution_count": 19,
   "id": "0d45d430-031d-4071-a872-89c281e9ac3e",
   "metadata": {
    "vscode": {
     "languageId": "r"
    }
   },
   "outputs": [
    {
     "data": {
      "image/png": "[encoded data removed]",
      "text/plain": [
       "plot without title"
      ]
     },
     "metadata": {
      "image/png": {
       "height": 240,
       "width": 360
      }
     },
     "output_type": "display_data"
    }
   ],
   "source": [
    "options(repr.plot.width = 6, repr.plot.height = 4)\n",
    "\n",
    "## Plotting the distribution of area burned from data\n",
    "area_burned_plot <- forest_fires_data %>%\n",
    "    ggplot(aes(x = area))+\n",
    "    geom_histogram(binwidth = 10) + \n",
    "    labs(x = \"Area Burned (ha)\", y = \"Count\")+\n",
    "    ggtitle(\"Figure 4: Area Burned Distribution\") +\n",
    "    scale_fill_discrete(name = \"Month of Fires\")+\n",
    "    theme(text = element_text(size = 11))\n",
    "area_burned_plot   "
   ]
  },
  {
   "cell_type": "markdown",
   "id": "4c1b2602-aa6f-44fd-bf99-c6cbff3e8e6b",
   "metadata": {},
   "source": [
    "Figure 4 shows a massive right skew in the data. This structure means that it would make sense to scale the data using a logrithmic scale.\n",
    "> See https://www.programmingr.com/tutorial/log-in-r/."
   ]
  },
  {
   "cell_type": "code",
   "execution_count": 20,
   "id": "98d1c73d-821e-4b75-a04f-75976c342b48",
   "metadata": {
    "vscode": {
     "languageId": "r"
    }
   },
   "outputs": [],
   "source": [
    "## Adding log scale column \n",
    "forest_fires_data <- forest_fires_data %>%\n",
    "    mutate(area_log10 = log10(1+ area))"
   ]
  },
  {
   "cell_type": "code",
   "execution_count": 21,
   "id": "6aae9d1c-33b3-477c-b40b-f7e9d305ca29",
   "metadata": {
    "vscode": {
     "languageId": "r"
    }
   },
   "outputs": [
    {
     "data": {
      "image/png": "[encoded data removed]",
      "text/plain": [
       "plot without title"
      ]
     },
     "metadata": {
      "image/png": {
       "height": 240,
       "width": 360
      }
     },
     "output_type": "display_data"
    }
   ],
   "source": [
    "options(repr.plot.width = 6, repr.plot.height = 4)\n",
    "\n",
    "## Plotting area burned distribution with the newly scaled data\n",
    "area_burned_scaled_plot <- forest_fires_data %>%\n",
    "    ggplot(aes(x =area_log10))+\n",
    "    geom_histogram(binwidth = 0.5) + \n",
    "    labs(x=\"Area Burned (ha) [log 10 scaled]\", y=\"Count\")+\n",
    "    ggtitle(\"Figure 5: Area Burned Distribution (scaled)\") +\n",
    "    scale_fill_discrete(name = \"Month of Fires\") +\n",
    "    theme(text = element_text(size = 12))\n",
    "\n",
    "## Plotting boxplot of area burned with respect to which wind speed catagory the observation belongs to\n",
    "box_plot_burned <- forest_fires_data %>%\n",
    "  ggplot(aes(x = category, y = area_log10, fill = category)) +\n",
    "  geom_boxplot() +\n",
    "  labs(x=\"Scaled Area vs Wind Speed Category\", y=\"Scaled Area Burned (ha)\")+\n",
    "  ggtitle(\"Figure 6: Boxplot of Area Burned by Category\")\n",
    "\n",
    "area_burned_scaled_plot"
   ]
  },
  {
   "cell_type": "markdown",
   "id": "7f096a8f-4e14-4f99-b5ed-cddeceea8d29",
   "metadata": {},
   "source": [
    "Figure 5 is the newly scaled distribution for the area burned. We can see that it still follows a similar shape as before, but it's a bit easier to see what's actually going on. "
   ]
  },
  {
   "cell_type": "code",
   "execution_count": 22,
   "id": "ad10ed7e-cef8-4913-97c1-dfdfa95d1ec7",
   "metadata": {
    "vscode": {
     "languageId": "r"
    }
   },
   "outputs": [
    {
     "data": {
      "image/png": "[encoded data removed]",
      "text/plain": [
       "plot without title"
      ]
     },
     "metadata": {
      "image/png": {
       "height": 240,
       "width": 660
      }
     },
     "output_type": "display_data"
    }
   ],
   "source": [
    "## Plotting boxplot of area burned with respect to which wind speed catagory the observation belongs to\n",
    "box_plot_burned_unscaled <- forest_fires_data %>%\n",
    "  ggplot(aes(x = category, y = area, fill = category)) +\n",
    "  geom_boxplot() +\n",
    "  labs(x = \"Unscaled Area vs Wind Speed Category\", y = \"Area Burned (ha)\")+\n",
    "  ggtitle(\"Figure 6: Unscaled Area Burned by Category\")\n",
    "\n",
    "## Plotting boxplot of area burned [scaled] with respect to which wind speed catagory the observation belongs to\n",
    "box_plot_burned_scaled <- forest_fires_data %>%\n",
    "  ggplot(aes(x = category, y = area_log10, fill = category)) +\n",
    "  geom_boxplot() +\n",
    "  labs(x = \"Scaled Area vs Wind Speed Category\", y = \"Scaled Area Burned (ha)\")+\n",
    "  ggtitle(\"Figure 7: Scaled Area Burned by Category\")\n",
    "\n",
    "\n",
    "options(repr.plot.width = 11, repr.plot.height = 4)\n",
    "plot_grid(box_plot_burned_unscaled, box_plot_burned_scaled)"
   ]
  },
  {
   "cell_type": "markdown",
   "id": "228b60ec-58be-4b10-8931-8b866a3cda70",
   "metadata": {},
   "source": [
    "Figure 6 and 7 show the unscaled and scaled area burned distributions under both wind catagories. We can see here that the two catagories actually have very similar distributions, with a slighly higher variance in \"high\" wind speed catagory compared to the \"low\" wind speed catagory."
   ]
  },
  {
   "cell_type": "code",
   "execution_count": 23,
   "id": "6e74fb57-d5bd-4e7e-a576-d32e2ec19b2c",
   "metadata": {
    "vscode": {
     "languageId": "r"
    }
   },
   "outputs": [
    {
     "data": {
      "text/plain": [
       "      wind            area          category     area_log10    \n",
       " Min.   :0.400   Min.   :   0.000   low :300   Min.   :0.0000  \n",
       " 1st Qu.:2.200   1st Qu.:   0.000   high:  0   1st Qu.:0.0000  \n",
       " Median :2.700   Median :   0.495              Median :0.1746  \n",
       " Mean   :2.779   Mean   :  12.615              Mean   :0.4699  \n",
       " 3rd Qu.:3.600   3rd Qu.:   6.365              3rd Qu.:0.8672  \n",
       " Max.   :4.000   Max.   :1090.840              Max.   :3.0382  "
      ]
     },
     "metadata": {},
     "output_type": "display_data"
    },
    {
     "data": {
      "text/plain": [
       "      wind            area        category     area_log10    \n",
       " Min.   :4.500   Min.   :  0.00   low :  0   Min.   :0.0000  \n",
       " 1st Qu.:4.900   1st Qu.:  0.00   high:217   1st Qu.:0.0000  \n",
       " Median :5.400   Median :  0.61              Median :0.2068  \n",
       " Mean   :5.729   Mean   : 13.17              Mean   :0.5000  \n",
       " 3rd Qu.:6.300   3rd Qu.:  7.73              3rd Qu.:0.9410  \n",
       " Max.   :9.400   Max.   :746.28              Max.   :2.8735  "
      ]
     },
     "metadata": {},
     "output_type": "display_data"
    }
   ],
   "source": [
    "## Creating summary statistic for \"low\" wind speed catagory\n",
    "forest_fires_data %>%\n",
    "group_by(category) %>%\n",
    "filter(category == \"low\") %>%\n",
    "summary()\n",
    "\n",
    "## Creating summary statistic for \"high\" wind speed catagory\n",
    "forest_fires_data %>%\n",
    "group_by(category) %>%\n",
    "filter(category == \"high\") %>%\n",
    "summary()"
   ]
  },
  {
   "cell_type": "markdown",
   "id": "7fe2f8b1-ad59-4f31-8e15-d8978edc40b7",
   "metadata": {},
   "source": [
    "Most of these stats for the wind are what you would expect to see given how we split that data to create the catagories. The area of interest here is how the catgory differences are reflected in the area and area_log 10 columns. We can see here that most of the statistic are pretty similar, with even the MAX on the \"low\" catagory having a significantly higher MAX than the \"high\" catagory (which is pretty suprising), but that the \"high\" catagory still has a higher MEAN (though the difference is pretty small)."
   ]
  },
  {
   "cell_type": "markdown",
   "id": "525ced24-2914-48ce-a6f4-f28fc6e6a897",
   "metadata": {},
   "source": [
    "## Methods and Results"
   ]
  },
  {
   "cell_type": "code",
   "execution_count": 24,
   "id": "89a506ef-637a-4d56-8e1e-28d96edde203",
   "metadata": {
    "vscode": {
     "languageId": "r"
    }
   },
   "outputs": [
    {
     "name": "stderr",
     "output_type": "stream",
     "text": [
      "\u001b[1mRows: \u001b[22m\u001b[34m517\u001b[39m \u001b[1mColumns: \u001b[22m\u001b[34m13\u001b[39m\n",
      "\u001b[36m--\u001b[39m \u001b[1mColumn specification\u001b[22m \u001b[36m------------------------------------------------------------------------------------------------\u001b[39m\n",
      "\u001b[1mDelimiter:\u001b[22m \",\"\n",
      "\u001b[31mchr\u001b[39m  (2): month, day\n",
      "\u001b[32mdbl\u001b[39m (11): X, Y, FFMC, DMC, DC, ISI, temp, RH, wind, rain, area\n",
      "\n",
      "\u001b[36mi\u001b[39m Use `spec()` to retrieve the full column specification for this data.\n",
      "\u001b[36mi\u001b[39m Specify the column types or set `show_col_types = FALSE` to quiet this message.\n"
     ]
    }
   ],
   "source": [
    "order <- c(\"low\", \"high\")\n",
    "\n",
    "dataset <- read_csv('../data/forestfires.csv') %>%\n",
    "  select(wind, area) %>%\n",
    "  mutate(wind = as.numeric(wind), area = as.numeric(area)) %>% #Wrangling data and selecting columns to be used in prediction\n",
    "  filter(!is.na(wind) | !is.na(area)) %>%\n",
    "  mutate(\n",
    "    category=cut(wind, breaks = quantile(wind,c(0,1/2,1)), labels = order,include.lowest = TRUE),\n",
    "    area_log10 = log10(1+ area)\n",
    "  )"
   ]
  },
  {
   "cell_type": "markdown",
   "id": "46894dec-18b3-4a3e-a73e-5e0cf2e2caad",
   "metadata": {
    "tags": []
   },
   "source": [
    "### Confidence Interval"
   ]
  },
  {
   "cell_type": "code",
   "execution_count": 25,
   "id": "94aed880-abda-4839-a171-31721bcbe641",
   "metadata": {
    "vscode": {
     "languageId": "r"
    }
   },
   "outputs": [
    {
     "data": {
      "text/html": [
       "<table class=\"dataframe\">\n",
       "<caption>A infer: 1 × 1</caption>\n",
       "<thead>\n",
       "\t<tr><th scope=col>stat</th></tr>\n",
       "\t<tr><th scope=col>&lt;dbl&gt;</th></tr>\n",
       "</thead>\n",
       "<tbody>\n",
       "\t<tr><td>-0.03014077</td></tr>\n",
       "</tbody>\n",
       "</table>\n"
      ],
      "text/latex": [
       "A infer: 1 × 1\n",
       "\\begin{tabular}{l}\n",
       " stat\\\\\n",
       " <dbl>\\\\\n",
       "\\hline\n",
       "\t -0.03014077\\\\\n",
       "\\end{tabular}\n"
      ],
      "text/markdown": [
       "\n",
       "A infer: 1 × 1\n",
       "\n",
       "| stat &lt;dbl&gt; |\n",
       "|---|\n",
       "| -0.03014077 |\n",
       "\n"
      ],
      "text/plain": [
       "  stat       \n",
       "1 -0.03014077"
      ]
     },
     "metadata": {},
     "output_type": "display_data"
    }
   ],
   "source": [
    "# calculate our sample statistic (average diff in means)\n",
    "obs_diff_means <- dataset %>% \n",
    "  specify(formula = area_log10 ~ category) %>% \n",
    "  calculate(stat = \"diff in means\", order = order)\n",
    "\n",
    "obs_diff_means"
   ]
  },
  {
   "cell_type": "code",
   "execution_count": 26,
   "id": "8e7f5bf3-522e-4a04-b035-8d349124d92a",
   "metadata": {
    "tags": [],
    "vscode": {
     "languageId": "r"
    }
   },
   "outputs": [
    {
     "name": "stdout",
     "output_type": "stream",
     "text": [
      "\u001b[90m# A tibble: 1 x 2\u001b[39m\n",
      "  lower_ci upper_ci\n",
      "     \u001b[3m\u001b[90m<dbl>\u001b[39m\u001b[23m    \u001b[3m\u001b[90m<dbl>\u001b[39m\u001b[23m\n",
      "\u001b[90m1\u001b[39m   -\u001b[31m0\u001b[39m\u001b[31m.\u001b[39m\u001b[31m143\u001b[39m   0.076\u001b[4m6\u001b[24m\n"
     ]
    },
    {
     "data": {
      "image/png": "[encoded data removed]",
      "text/plain": [
       "plot without title"
      ]
     },
     "metadata": {
      "image/png": {
       "height": 240,
       "width": 360
      }
     },
     "output_type": "display_data"
    }
   ],
   "source": [
    "options(repr.plot.width = 6, repr.plot.height = 4)\n",
    "\n",
    "# set the seed so that the randomization is consistent\n",
    "set.seed(1234)\n",
    "\n",
    "# bootstrap with 2000 replicate\n",
    "bootstrap_dist_data_infer <- dataset %>%\n",
    "    specify(formula = area_log10 ~ category) %>%\n",
    "    generate(type = \"bootstrap\", reps = 2000) %>%\n",
    "    calculate(stat = \"diff in means\", order = order) \n",
    "\n",
    "# get the upper and lower bound of the confidence interval generated by the bootstrap distribution\n",
    "percentile_ci <- bootstrap_dist_data_infer\t%>%\n",
    "    get_ci(type = \"percentile\", level = 0.95)\n",
    "print(percentile_ci)\n",
    "\n",
    "# confidence interval of the difference in mean area burned\n",
    "bootstrap_dist_data_infer %>%\n",
    "    visualize() +\n",
    "    shade_confidence_interval(endpoints = percentile_ci) +\n",
    "    geom_vline(xintercept = obs_diff_means$stat, linetype = \"dashed\", color = \"red\") +\n",
    "    labs(\n",
    "        title = 'Figure 8: Bootstrap Distribution of Mean Area Burned Difference',\n",
    "        x = 'Difference'\n",
    "    )"
   ]
  },
  {
   "cell_type": "markdown",
   "id": "976c1ff9-14f2-4d40-94b4-a484eaa2dc1c",
   "metadata": {},
   "source": [
    "Above is the visualization of our confidence interval. Our interval at a 95% confidence level is between -0.143 and 0.0766. This means that we are 95% confident that the true difference between the scaled area burned between the two wind speed catagories is between -0.143 and 0.0766 log10 Ha (log10 Hectare)."
   ]
  },
  {
   "cell_type": "markdown",
   "id": "11123848-7f86-4757-941e-520b8f42a464",
   "metadata": {},
   "source": [
    "### Simulation Based Hypothesis Test"
   ]
  },
  {
   "cell_type": "code",
   "execution_count": 27,
   "id": "6cfa218c-7695-43d7-ada7-c40ce5e86a40",
   "metadata": {
    "vscode": {
     "languageId": "r"
    }
   },
   "outputs": [
    {
     "name": "stderr",
     "output_type": "stream",
     "text": [
      "Warning message:\n",
      "\"Parameter values are not specified when testing that two variables are independent.\"\n"
     ]
    },
    {
     "data": {
      "text/html": [
       "<table class=\"dataframe\">\n",
       "<caption>A tibble: 1 × 1</caption>\n",
       "<thead>\n",
       "\t<tr><th scope=col>p_value</th></tr>\n",
       "\t<tr><th scope=col>&lt;dbl&gt;</th></tr>\n",
       "</thead>\n",
       "<tbody>\n",
       "\t<tr><td>0.578</td></tr>\n",
       "</tbody>\n",
       "</table>\n"
      ],
      "text/latex": [
       "A tibble: 1 × 1\n",
       "\\begin{tabular}{l}\n",
       " p\\_value\\\\\n",
       " <dbl>\\\\\n",
       "\\hline\n",
       "\t 0.578\\\\\n",
       "\\end{tabular}\n"
      ],
      "text/markdown": [
       "\n",
       "A tibble: 1 × 1\n",
       "\n",
       "| p_value &lt;dbl&gt; |\n",
       "|---|\n",
       "| 0.578 |\n",
       "\n"
      ],
      "text/plain": [
       "  p_value\n",
       "1 0.578  "
      ]
     },
     "metadata": {},
     "output_type": "display_data"
    },
    {
     "data": {
      "image/png": "[encoded data removed]",
      "text/plain": [
       "plot without title"
      ]
     },
     "metadata": {
      "image/png": {
       "height": 240,
       "width": 360
      }
     },
     "output_type": "display_data"
    }
   ],
   "source": [
    "alpha <- 0.05\n",
    "\n",
    "# null distribution (N0 : mu1 - mu1 = 0) of the difference in means\n",
    "# since we are not generating a bootstrap distribution, type is set to \"permute\"\n",
    "null_distribution_mean <- dataset %>%\n",
    "  specify(formula = area_log10 ~ category) %>% \n",
    "  hypothesize(null = \"independence\", mu = 0) %>% \n",
    "  generate(reps = 2000, type = \"permute\") %>% \n",
    "  calculate(stat = \"diff in means\", order = order)\n",
    "\n",
    "# visualize into histogram and show where the p-value lies\n",
    "null_distribution_mean %>%\n",
    "    visualize() +\n",
    "    shade_p_value(obs_stat = obs_diff_means, direction = \"two_sided\") +\n",
    "    labs(title = 'Figure 9: Simulated-Based Null Distribution of Difference in Mean Area Burned', x = 'Difference in Mean Area Burned')\n",
    "\n",
    "# calculate precise p-value of our statistic under the null model\n",
    "null_distribution_mean %>% \n",
    "  get_p_value(obs_stat = obs_diff_means, direction = \"both\")"
   ]
  },
  {
   "cell_type": "markdown",
   "id": "d7a2b4af-f8e4-4780-b551-4e9f21c3d559",
   "metadata": {},
   "source": [
    "Our p value from the simulation based approach is 0.578. This means that under our null model (where both windspeed catagories are assumed to have equal areas burned) there is a probabilty of 0.578 to produce a sample with a statistic that is either equal or more extreme than our observed statistic (-0.0301)."
   ]
  },
  {
   "cell_type": "markdown",
   "id": "5d04afb5-3c94-435f-acca-f7761075a2f5",
   "metadata": {},
   "source": [
    "### Theory Based Hypothesis Test"
   ]
  },
  {
   "cell_type": "code",
   "execution_count": 28,
   "id": "8157430b-ab60-400d-a1cd-ccc62fef62d7",
   "metadata": {
    "vscode": {
     "languageId": "r"
    }
   },
   "outputs": [
    {
     "name": "stdout",
     "output_type": "stream",
     "text": [
      "[1] 0.5799658\n"
     ]
    }
   ],
   "source": [
    "# split the category\n",
    "high_cat <- filter(dataset, category == 'high')\n",
    "low_cat <- filter(dataset, category == 'low')\n",
    "\n",
    "# find the variance across both categories\n",
    "var1 <- var(high_cat$area_log10)\n",
    "var2 <- var(low_cat$area_log10)\n",
    "\n",
    "# count the rows\n",
    "n1 <- high_cat %>% nrow()\n",
    "n2 <- low_cat %>% nrow()\n",
    "\n",
    "# calculate degrees of freedom for populations with unequal variances\n",
    "var1n1 <- (var1/n1)\n",
    "var2n2 <- (var2/n2)\n",
    "df <- (var1n1/var2n2)^2 / ((1/(n1-1))*var1n1^2 + (1/(n2-1))*var2n2^2)\n",
    "\n",
    "# calculate the t-statistic\n",
    "t_stat <- (obs_diff_means) / sqrt((var1/n1) + (var2/n2))\n",
    "\n",
    "# comparing t stat to t distribution under null model and finding the p-value (multiply by 2 for two-tailed test)\n",
    "p_value <- pt(t_stat$stat, df)*2\n",
    "\n",
    "print(p_value)"
   ]
  },
  {
   "cell_type": "markdown",
   "id": "9f9466b0-39ed-4adc-adcb-2c62dde08247",
   "metadata": {},
   "source": [
    "Our p value from the theory based approach is 0.579. This means that under our null model (where both windspeed catagories are assumed to have equal areas burned) there is a probabilty of 0.579 to produce a sample with a statistic that is either equal or more extreme than our observed statistic (-0.0301)."
   ]
  },
  {
   "cell_type": "markdown",
   "id": "0fd035b6-bfc3-4710-bf79-8990103079dc",
   "metadata": {},
   "source": [
    "### Comparison"
   ]
  },
  {
   "cell_type": "markdown",
   "id": "d2b6e54e-8214-4aa2-a992-8a446c7bd77f",
   "metadata": {},
   "source": [
    "Before we start the analysis, it is important to acknowledge that both the simulation and theory based approach rely on the observed sample at their core. Neither approach will give particularly amazing results if the sample data is not representative of the larger population. That being said, the simulation based approach (bootstrapping) is generally preferred as it does not rely on the same assumptions that are at the core of the theory based approach (asymptotics). \n",
    "\n",
    "This is generally a pretty important distinction to make since it allows for bootstrapping to succeed where the more conventional theory based approach would be considered invalid. However, our dataset already satisfies the three basic assumptions of the Central Limit Theorem necessary for asymptotics. This means that for our case, it’s largely arbitrary as to which method is preferable. This is even reflected in our results, as both methods produced very similar p-values. That being said, because of the lower number of prerequisites for bootstrapping, we would generally favor it in any situation where it is available."
   ]
  },
  {
   "cell_type": "markdown",
   "id": "bdcbc578-04e5-42fb-b710-d16eaf2f3a91",
   "metadata": {},
   "source": [
    "## Discussion"
   ]
  },
  {
   "cell_type": "markdown",
   "id": "82a29a1c-b334-4faf-a347-131be1156070",
   "metadata": {},
   "source": [
    "We used a simulation based approach to calculate a 95% confidence interval of between -0.143 and 0.0766 Hectare. Even considering that we scaled the data by log base 10, this is still a pretty small interval in the context of Hectare area burned (a Hectare is 100 meters by 100 meters). This suggests that there was relatively little variation between the bootstrap samples and that we had a sufficiently large dataset to produce such a narrow interval. \n",
    "\n",
    "Continuing to the hypothesis tests we can see that we produced the p values of 0.578 and 0.579 for the simulation and theory based approaches respectively. This means that under our null model, we would have a probability of 0.578/0.579 of seeing a statistic equal or more extreme than our observed statistic of -0.0301. These very large p values would thus lead us to not reject the null hypothesis that the two wind speed categories had equal average areas burned. \n",
    "\n",
    "Analysing prior research, our results are certainly not what we were expecting. Our preliminary results did show signs that there would be little difference between the groups, however there was an expectation that the proper magnitude of the results would be put into perspective when they were examined through the hypothesis tests. However, now with the benefits of hindsight, those previous results seem a lot more reasonable as they coincided with our lack of evidence to reject the null hypothesis with.\n",
    "\n",
    "Our findings suggest that wind speed does not have a significant effect on the area burned during a forest fire. This directly contradicts the prior research so this might be an indicator that there might be a need for an alternative approach. For example, variables like temperature, humidity, and geographic location could be more significant variables in analyzing wildfires. Knowing what factors play a significant role can help us to identify areas that might be more prone to forest fires and then reduce the risk of forest fires by controlling said variables."
   ]
  },
  {
   "cell_type": "markdown",
   "id": "d60c559f",
   "metadata": {},
   "source": [
    "## References"
   ]
  },
  {
   "cell_type": "markdown",
   "id": "e0475be3",
   "metadata": {},
   "source": [
    "*General Winds*. (n.d.). https://www.nwcg.gov/publications/pms425-1/general-winds\n",
    "\n",
    "Cortez, P., & Morais, A. (2007). *A Data Mining Approach to Predict Forest Fires using Meteorological Data. http://www.dsi.uminho.pt/pcortez/fires.pdf/*\n",
    "\n",
    "Cruz, M. G., & Alexander, M. E. (2019). The 10% wind speed rule of thumb for estimating a wildfire’s forward rate of spread in forests and shrublands. *Annals of Forest Science, 76*, Article 2. https://doi.org/10.1007/s13595-019-0829-8"
   ]
  }
 ],
 "metadata": {
  "kernelspec": {
   "display_name": "R",
   "language": "R",
   "name": "ir"
  },
  "language_info": {
   "codemirror_mode": "r",
   "file_extension": ".r",
   "mimetype": "text/x-r-source",
   "name": "R",
   "pygments_lexer": "r",
   "version": "4.1.3"
  }
 },
 "nbformat": 4,
 "nbformat_minor": 5
}
