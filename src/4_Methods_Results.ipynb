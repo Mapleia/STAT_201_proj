{
 "cells": [
  {
   "cell_type": "markdown",
   "metadata": {},
   "source": [
    "# Methods and Results"
   ]
  },
  {
   "cell_type": "code",
   "execution_count": 1,
   "metadata": {
    "vscode": {
     "languageId": "r"
    }
   },
   "outputs": [
    {
     "name": "stderr",
     "output_type": "stream",
     "text": [
      "Loading required package: ggplot2\n",
      "\n",
      "Registered S3 method overwritten by 'GGally':\n",
      "  method from   \n",
      "  +.gg   ggplot2\n",
      "\n",
      "-- \u001b[1mAttaching packages\u001b[22m ------------------------------------------------------------------------------------------------ tidyverse 1.3.2 --\n",
      "\u001b[32mv\u001b[39m \u001b[34mtibble \u001b[39m 3.1.8      \u001b[32mv\u001b[39m \u001b[34mdplyr  \u001b[39m 1.0.10\n",
      "\u001b[32mv\u001b[39m \u001b[34mtidyr  \u001b[39m 1.2.1      \u001b[32mv\u001b[39m \u001b[34mstringr\u001b[39m 1.4.1 \n",
      "\u001b[32mv\u001b[39m \u001b[34mreadr  \u001b[39m 2.1.3      \u001b[32mv\u001b[39m \u001b[34mforcats\u001b[39m 0.5.2 \n",
      "\u001b[32mv\u001b[39m \u001b[34mpurrr  \u001b[39m 0.3.5      \n",
      "-- \u001b[1mConflicts\u001b[22m --------------------------------------------------------------------------------------------------- tidyverse_conflicts() --\n",
      "\u001b[31mx\u001b[39m \u001b[34mdplyr\u001b[39m::\u001b[32mfilter()\u001b[39m masks \u001b[34mstats\u001b[39m::filter()\n",
      "\u001b[31mx\u001b[39m \u001b[34mdplyr\u001b[39m::\u001b[32mlag()\u001b[39m    masks \u001b[34mstats\u001b[39m::lag()\n"
     ]
    }
   ],
   "source": [
    "# import the libraries used for analysis\n",
    "\n",
    "library(GGally)\n",
    "library(tidyverse)\n",
    "library(infer)\n",
    "library(cowplot)\n",
    "library(broom)"
   ]
  },
  {
   "cell_type": "code",
   "execution_count": 2,
   "metadata": {
    "vscode": {
     "languageId": "r"
    }
   },
   "outputs": [
    {
     "name": "stderr",
     "output_type": "stream",
     "text": [
      "\u001b[1mRows: \u001b[22m\u001b[34m517\u001b[39m \u001b[1mColumns: \u001b[22m\u001b[34m13\u001b[39m\n",
      "\u001b[36m--\u001b[39m \u001b[1mColumn specification\u001b[22m \u001b[36m-----------------------------------------------------------------------------------------------------------------\u001b[39m\n",
      "\u001b[1mDelimiter:\u001b[22m \",\"\n",
      "\u001b[31mchr\u001b[39m  (2): month, day\n",
      "\u001b[32mdbl\u001b[39m (11): X, Y, FFMC, DMC, DC, ISI, temp, RH, wind, rain, area\n",
      "\n",
      "\u001b[36mi\u001b[39m Use `spec()` to retrieve the full column specification for this data.\n",
      "\u001b[36mi\u001b[39m Specify the column types or set `show_col_types = FALSE` to quiet this message.\n"
     ]
    }
   ],
   "source": [
    "## Temp cell for data wrongling, section should be attached to pre-results so do not include this cell in final project!!!!!!!!!!!\n",
    "\n",
    "order <- c(\"high\", \"low\")\n",
    "\n",
    "dataset <- read_csv('../data/forestfires.csv') %>%\n",
    "  select(wind, area) %>%\n",
    "  mutate(wind = as.numeric(wind), area = as.numeric(area)) %>% #Wrangling data and selecting columns to be used in prediction\n",
    "  filter(!is.na(wind) | !is.na(area)) %>%\n",
    "  mutate(\n",
    "    category=cut(wind, breaks=quantile(wind,c(0,1/2,1)), labels=order,include.lowest = TRUE),\n",
    "    area_log10 = log10(1+ area)\n",
    "  )"
   ]
  },
  {
   "cell_type": "markdown",
   "metadata": {},
   "source": [
    "### Confidence Interval"
   ]
  },
  {
   "cell_type": "code",
   "execution_count": 4,
   "metadata": {
    "vscode": {
     "languageId": "r"
    }
   },
   "outputs": [
    {
     "data": {
      "text/html": [
       "<table class=\"dataframe\">\n",
       "<caption>A infer: 1 × 1</caption>\n",
       "<thead>\n",
       "\t<tr><th scope=col>stat</th></tr>\n",
       "\t<tr><th scope=col>&lt;dbl&gt;</th></tr>\n",
       "</thead>\n",
       "<tbody>\n",
       "\t<tr><td>-0.03014077</td></tr>\n",
       "</tbody>\n",
       "</table>\n"
      ],
      "text/latex": [
       "A infer: 1 × 1\n",
       "\\begin{tabular}{l}\n",
       " stat\\\\\n",
       " <dbl>\\\\\n",
       "\\hline\n",
       "\t -0.03014077\\\\\n",
       "\\end{tabular}\n"
      ],
      "text/markdown": [
       "\n",
       "A infer: 1 × 1\n",
       "\n",
       "| stat &lt;dbl&gt; |\n",
       "|---|\n",
       "| -0.03014077 |\n",
       "\n"
      ],
      "text/plain": [
       "  stat       \n",
       "1 -0.03014077"
      ]
     },
     "metadata": {},
     "output_type": "display_data"
    }
   ],
   "source": [
    "# calculate our sample statistic (average diff in means)\n",
    "obs_diff_means <- dataset %>% \n",
    "  specify(formula = area_log10 ~ category) %>% \n",
    "  calculate(stat = \"diff in means\", order = order)\n",
    "\n",
    "obs_diff_means"
   ]
  },
  {
   "cell_type": "code",
   "execution_count": 7,
   "metadata": {
    "tags": [],
    "vscode": {
     "languageId": "r"
    }
   },
   "outputs": [
    {
     "name": "stdout",
     "output_type": "stream",
     "text": [
      "\u001b[90m# A tibble: 1 x 2\u001b[39m\n",
      "  lower_ci upper_ci\n",
      "     \u001b[3m\u001b[90m<dbl>\u001b[39m\u001b[23m    \u001b[3m\u001b[90m<dbl>\u001b[39m\u001b[23m\n",
      "\u001b[90m1\u001b[39m   -\u001b[31m0\u001b[39m\u001b[31m.\u001b[39m\u001b[31m143\u001b[39m   0.076\u001b[4m6\u001b[24m\n"
     ]
    },
    {
     "data": {
      "image/png": "[encoded data removed]",
      "text/plain": [
       "plot without title"
      ]
     },
     "metadata": {
      "image/png": {
       "height": 240,
       "width": 360
      }
     },
     "output_type": "display_data"
    }
   ],
   "source": [
    "options(repr.plot.width = 6, repr.plot.height = 4)\n",
    "\n",
    "# set the seed so that the randomization is consistent\n",
    "set.seed(1234)\n",
    "\n",
    "# bootstrap with 2000 replicate\n",
    "bootstrap_dist_data_infer <- dataset %>%\n",
    "    specify(formula = area_log10 ~ category) %>%\n",
    "    generate(type = \"bootstrap\", reps = 2000) %>%\n",
    "    calculate(stat = \"diff in means\", order = order) \n",
    "\n",
    "# get the upper and lower bound of the confidence interval generated by the bootstrap distribution\n",
    "percentile_ci <- bootstrap_dist_data_infer\t%>%\n",
    "    get_ci(type = \"percentile\", level = 0.95)\n",
    "print(percentile_ci)\n",
    "\n",
    "# confidence interval of the difference in mean area burned\n",
    "bootstrap_dist_data_infer %>%\n",
    "    visualize() +\n",
    "    shade_confidence_interval(endpoints = percentile_ci) +\n",
    "    geom_vline(xintercept=obs_diff_means$stat, linetype=\"dashed\", color = \"red\")"
   ]
  },
  {
   "cell_type": "markdown",
   "metadata": {},
   "source": [
    "The bootstrap distribution shows the width of the confidence interval, and it being centered around the average diff in means calculated in `obs_diff_means`. The red dashed line represents the `obs_diff_means` value."
   ]
  },
  {
   "cell_type": "markdown",
   "metadata": {},
   "source": [
    "### Simulation Based Hypothesis Test"
   ]
  },
  {
   "cell_type": "code",
   "execution_count": 9,
   "metadata": {
    "vscode": {
     "languageId": "r"
    }
   },
   "outputs": [
    {
     "name": "stderr",
     "output_type": "stream",
     "text": [
      "Warning message:\n",
      "\"Parameter values are not specified when testing that two variables are independent.\"\n"
     ]
    },
    {
     "data": {
      "text/html": [
       "<table class=\"dataframe\">\n",
       "<caption>A tibble: 1 × 1</caption>\n",
       "<thead>\n",
       "\t<tr><th scope=col>p_value</th></tr>\n",
       "\t<tr><th scope=col>&lt;dbl&gt;</th></tr>\n",
       "</thead>\n",
       "<tbody>\n",
       "\t<tr><td>0.567</td></tr>\n",
       "</tbody>\n",
       "</table>\n"
      ],
      "text/latex": [
       "A tibble: 1 × 1\n",
       "\\begin{tabular}{l}\n",
       " p\\_value\\\\\n",
       " <dbl>\\\\\n",
       "\\hline\n",
       "\t 0.567\\\\\n",
       "\\end{tabular}\n"
      ],
      "text/markdown": [
       "\n",
       "A tibble: 1 × 1\n",
       "\n",
       "| p_value &lt;dbl&gt; |\n",
       "|---|\n",
       "| 0.567 |\n",
       "\n"
      ],
      "text/plain": [
       "  p_value\n",
       "1 0.567  "
      ]
     },
     "metadata": {},
     "output_type": "display_data"
    },
    {
     "data": {
      "image/png": "[encoded data removed]",
      "text/plain": [
       "plot without title"
      ]
     },
     "metadata": {
      "image/png": {
       "height": 240,
       "width": 360
      }
     },
     "output_type": "display_data"
    }
   ],
   "source": [
    "alpha <- 0.05\n",
    "\n",
    "# null distribution (N0 : mu1 - mu1 = 0) of the difference in means\n",
    "# since we are not generating a bootstrap distribution, type is set to \"permute\"\n",
    "null_distribution_mean <- dataset %>%\n",
    "  specify(formula = area_log10 ~ category) %>% \n",
    "  hypothesize(null = \"independence\", mu = 0) %>% \n",
    "  generate(reps = 2000, type = \"permute\") %>% \n",
    "  calculate(stat = \"diff in means\", order = order)\n",
    "\n",
    "# visualize into histogram and show where the p-value lies\n",
    "null_distribution_mean %>%\n",
    "    visualize() +\n",
    "    shade_p_value(obs_stat = obs_diff_means, direction = \"two_sided\")\n",
    "\n",
    "# calculate precise p-value of our statistic under the null model\n",
    "null_distribution_mean %>% \n",
    "  get_p_value(obs_stat = obs_diff_means, direction = \"both\")"
   ]
  },
  {
   "cell_type": "markdown",
   "metadata": {},
   "source": [
    "(Interpretation Here)"
   ]
  },
  {
   "cell_type": "markdown",
   "metadata": {},
   "source": [
    "### Theory Based Hypothesis Test"
   ]
  },
  {
   "cell_type": "code",
   "execution_count": 14,
   "metadata": {
    "vscode": {
     "languageId": "r"
    }
   },
   "outputs": [
    {
     "name": "stdout",
     "output_type": "stream",
     "text": [
      "[1] 0.5799658\n"
     ]
    }
   ],
   "source": [
    "# split the category\n",
    "high_cat <- filter(dataset, category == 'high')\n",
    "low_cat <- filter(dataset, category == 'low')\n",
    "\n",
    "# find the variance across both categories\n",
    "var1 <- var(high_cat$area_log10)\n",
    "var2 <- var(low_cat$area_log10)\n",
    "\n",
    "# count the rows\n",
    "n1 <- high_cat %>% nrow()\n",
    "n2 <- low_cat %>% nrow()\n",
    "\n",
    "# calculate degrees of freedom for populations with unequal variances\n",
    "var1n1 <- (var1/n1)\n",
    "var2n2 <- (var2/n2)\n",
    "df <- (var1n1/var2n2)^2 / ((1/(n1-1))*var1n1^2 + (1/(n2-1))*var2n2^2)\n",
    "\n",
    "# calculate the t-statistic\n",
    "t_stat <- (obs_diff_means) / sqrt((var1/n1) + (var2/n2))\n",
    "\n",
    "# comparing t stat to t distribution under null model and finding the p-value (multiply by 2 for two-tailed test)\n",
    "p_value <- pt(t_stat$stat, df)*2\n",
    "\n",
    "print(p_value)"
   ]
  },
  {
   "cell_type": "markdown",
   "metadata": {},
   "source": [
    "(Interpretation Here)"
   ]
  },
  {
   "cell_type": "markdown",
   "metadata": {},
   "source": [
    "### Comparison"
   ]
  },
  {
   "cell_type": "markdown",
   "metadata": {},
   "source": [
    "Before we start the analysis, it is important to acknowledge that both the simulation and theory based approach rely on the observed sample at their core. Neither approach will give particularly amazing results if the sample data is not representative of the larger population. That being said, the simulation based approach (bootstrapping) is generally preferred as it does not rely on the same assumptions that are at the core of the theory based approach (asymptotics). \n",
    "\n",
    "This is generally a pretty important distinction to make since it allows for bootstrapping to succeed where the more conventional theory based approach would be considered invalid. However, our dataset already satisfies the three basic assumptions of the Central Limit Theorem necessary for asymptotics. This means that for our case, it’s largely arbitrary as to which method is preferable. This is even reflected in our results, as both methods produced very similar p-values. That being said, because of the lower number of prerequisites for bootstrapping, we would generally favor it in any situation where it is available."
   ]
  }
 ],
 "metadata": {
  "kernelspec": {
   "display_name": "R",
   "language": "R",
   "name": "ir"
  },
  "language_info": {
   "codemirror_mode": "r",
   "file_extension": ".r",
   "mimetype": "text/x-r-source",
   "name": "R",
   "pygments_lexer": "r",
   "version": "4.1.3"
  },
  "vscode": {
   "interpreter": {
    "hash": "1a6aa2ee3c4f80a55de00fd6239e357902e74cf1f897ed06dae743e7e1e25c38"
   }
  }
 },
 "nbformat": 4,
 "nbformat_minor": 4
}
