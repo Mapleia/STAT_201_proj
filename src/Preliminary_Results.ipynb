{
 "cells": [
  {
   "cell_type": "markdown",
   "id": "d53904d8",
   "metadata": {},
   "source": [
    "# Preliminary Results\n"
   ]
  },
  {
   "cell_type": "code",
   "execution_count": 1,
   "id": "40b3908b",
   "metadata": {
    "vscode": {
     "languageId": "r"
    }
   },
   "outputs": [
    {
     "name": "stderr",
     "output_type": "stream",
     "text": [
      "Loading required package: ggplot2\n",
      "\n",
      "Registered S3 method overwritten by 'GGally':\n",
      "  method from   \n",
      "  +.gg   ggplot2\n",
      "\n",
      "-- \u001b[1mAttaching packages\u001b[22m --------------------------------------- tidyverse 1.3.2 --\n",
      "\u001b[32mv\u001b[39m \u001b[34mtibble \u001b[39m 3.1.8      \u001b[32mv\u001b[39m \u001b[34mdplyr  \u001b[39m 1.0.10\n",
      "\u001b[32mv\u001b[39m \u001b[34mtidyr  \u001b[39m 1.2.1      \u001b[32mv\u001b[39m \u001b[34mstringr\u001b[39m 1.4.1 \n",
      "\u001b[32mv\u001b[39m \u001b[34mreadr  \u001b[39m 2.1.3      \u001b[32mv\u001b[39m \u001b[34mforcats\u001b[39m 0.5.2 \n",
      "\u001b[32mv\u001b[39m \u001b[34mpurrr  \u001b[39m 0.3.5      \n",
      "-- \u001b[1mConflicts\u001b[22m ------------------------------------------ tidyverse_conflicts() --\n",
      "\u001b[31mx\u001b[39m \u001b[34mdplyr\u001b[39m::\u001b[32mfilter()\u001b[39m masks \u001b[34mstats\u001b[39m::filter()\n",
      "\u001b[31mx\u001b[39m \u001b[34mdplyr\u001b[39m::\u001b[32mlag()\u001b[39m    masks \u001b[34mstats\u001b[39m::lag()\n"
     ]
    }
   ],
   "source": [
    "# Load the necessary packages.\n",
    "library(GGally)\n",
    "library(tidyverse)\n",
    "library(infer)\n",
    "library(cowplot)\n",
    "library(broom)"
   ]
  },
  {
   "cell_type": "markdown",
   "id": "9b558952",
   "metadata": {},
   "source": [
    "## Importing Data"
   ]
  },
  {
   "cell_type": "markdown",
   "id": "c28930cc",
   "metadata": {},
   "source": [
    "### Table 1: Top 6 Rows of Forest Fires Data"
   ]
  },
  {
   "cell_type": "code",
   "execution_count": 2,
   "id": "025acc4e",
   "metadata": {
    "vscode": {
     "languageId": "r"
    }
   },
   "outputs": [
    {
     "name": "stderr",
     "output_type": "stream",
     "text": [
      "\u001b[1mRows: \u001b[22m\u001b[34m517\u001b[39m \u001b[1mColumns: \u001b[22m\u001b[34m13\u001b[39m\n",
      "\u001b[36m--\u001b[39m \u001b[1mColumn specification\u001b[22m \u001b[36m--------------------------------------------------------\u001b[39m\n",
      "\u001b[1mDelimiter:\u001b[22m \",\"\n",
      "\u001b[31mchr\u001b[39m  (2): month, day\n",
      "\u001b[32mdbl\u001b[39m (11): X, Y, FFMC, DMC, DC, ISI, temp, RH, wind, rain, area\n",
      "\n",
      "\u001b[36mi\u001b[39m Use `spec()` to retrieve the full column specification for this data.\n",
      "\u001b[36mi\u001b[39m Specify the column types or set `show_col_types = FALSE` to quiet this message.\n"
     ]
    },
    {
     "data": {
      "text/html": [
       "<table class=\"dataframe\">\n",
       "<caption>A tibble: 6 × 2</caption>\n",
       "<thead>\n",
       "\t<tr><th scope=col>wind</th><th scope=col>area</th></tr>\n",
       "\t<tr><th scope=col>&lt;dbl&gt;</th><th scope=col>&lt;dbl&gt;</th></tr>\n",
       "</thead>\n",
       "<tbody>\n",
       "\t<tr><td>6.7</td><td>0</td></tr>\n",
       "\t<tr><td>0.9</td><td>0</td></tr>\n",
       "\t<tr><td>1.3</td><td>0</td></tr>\n",
       "\t<tr><td>4.0</td><td>0</td></tr>\n",
       "\t<tr><td>1.8</td><td>0</td></tr>\n",
       "\t<tr><td>5.4</td><td>0</td></tr>\n",
       "</tbody>\n",
       "</table>\n"
      ],
      "text/latex": [
       "A tibble: 6 × 2\n",
       "\\begin{tabular}{ll}\n",
       " wind & area\\\\\n",
       " <dbl> & <dbl>\\\\\n",
       "\\hline\n",
       "\t 6.7 & 0\\\\\n",
       "\t 0.9 & 0\\\\\n",
       "\t 1.3 & 0\\\\\n",
       "\t 4.0 & 0\\\\\n",
       "\t 1.8 & 0\\\\\n",
       "\t 5.4 & 0\\\\\n",
       "\\end{tabular}\n"
      ],
      "text/markdown": [
       "\n",
       "A tibble: 6 × 2\n",
       "\n",
       "| wind &lt;dbl&gt; | area &lt;dbl&gt; |\n",
       "|---|---|\n",
       "| 6.7 | 0 |\n",
       "| 0.9 | 0 |\n",
       "| 1.3 | 0 |\n",
       "| 4.0 | 0 |\n",
       "| 1.8 | 0 |\n",
       "| 5.4 | 0 |\n",
       "\n"
      ],
      "text/plain": [
       "  wind area\n",
       "1 6.7  0   \n",
       "2 0.9  0   \n",
       "3 1.3  0   \n",
       "4 4.0  0   \n",
       "5 1.8  0   \n",
       "6 5.4  0   "
      ]
     },
     "metadata": {},
     "output_type": "display_data"
    }
   ],
   "source": [
    "#Setting the seed.\n",
    "set.seed(1234)\n",
    "\n",
    "#Dowloading the data from the web and reading it in R.\n",
    "url <- \"https://archive.ics.uci.edu/ml/machine-learning-databases/forest-fires/forestfires.csv\"\n",
    "download.file (url,\"../data/forestfires.csv\" )\n",
    "\n",
    "forest_fires_data <-read_delim(\"../data/forestfires.csv\", skip=0, delim=\",\") %>%\n",
    "    select(wind, area) %>%\n",
    "    mutate(wind = as.numeric(wind), area = as.numeric(area)) %>% #Wrangling data and selecting columns to be used in prediction\n",
    "    filter(!is.na(wind) | !is.na(area))\n",
    "    \n",
    "head(forest_fires_data)"
   ]
  },
  {
   "cell_type": "markdown",
   "id": "1ffe5525",
   "metadata": {},
   "source": [
    "## Wind Speed Distributions"
   ]
  },
  {
   "cell_type": "code",
   "execution_count": 3,
   "id": "e1fd5505",
   "metadata": {
    "vscode": {
     "languageId": "r"
    }
   },
   "outputs": [
    {
     "data": {
      "image/png": "[encoded data removed]",
      "text/plain": [
       "plot without title"
      ]
     },
     "metadata": {
      "image/png": {
       "height": 240,
       "width": 360
      }
     },
     "output_type": "display_data"
    }
   ],
   "source": [
    "options(repr.plot.width = 6, repr.plot.height = 4)\n",
    "wind_speed_plot <- forest_fires_data %>%\n",
    "    ggplot(aes(x = wind))+\n",
    "    geom_histogram(binwidth = 0.8) + \n",
    "    labs(x=\"Wind Speed (km/h)\", y=\"Count\")+\n",
    "    ggtitle(\"Figure 1: Wind Speed Distribution\") +\n",
    "    scale_fill_discrete(name = \"Month of Fires\")+\n",
    "    theme(text = element_text(size = 12)) \n",
    "wind_speed_plot"
   ]
  },
  {
   "cell_type": "markdown",
   "id": "f1c34dd6",
   "metadata": {},
   "source": [
    "Based on figure 1, wind speed is almost a bimodal distribution (without much modification), we can safely assume that we can categorize wind speed into \"high\" and \"low\"."
   ]
  },
  {
   "cell_type": "code",
   "execution_count": 4,
   "id": "ae27de60",
   "metadata": {
    "vscode": {
     "languageId": "r"
    }
   },
   "outputs": [
    {
     "data": {
      "text/html": [
       "<table class=\"dataframe\">\n",
       "<caption>A tibble: 6 × 3</caption>\n",
       "<thead>\n",
       "\t<tr><th scope=col>wind</th><th scope=col>area</th><th scope=col>category</th></tr>\n",
       "\t<tr><th scope=col>&lt;dbl&gt;</th><th scope=col>&lt;dbl&gt;</th><th scope=col>&lt;fct&gt;</th></tr>\n",
       "</thead>\n",
       "<tbody>\n",
       "\t<tr><td>6.7</td><td>0</td><td>high</td></tr>\n",
       "\t<tr><td>0.9</td><td>0</td><td>low </td></tr>\n",
       "\t<tr><td>1.3</td><td>0</td><td>low </td></tr>\n",
       "\t<tr><td>4.0</td><td>0</td><td>low </td></tr>\n",
       "\t<tr><td>1.8</td><td>0</td><td>low </td></tr>\n",
       "\t<tr><td>5.4</td><td>0</td><td>high</td></tr>\n",
       "</tbody>\n",
       "</table>\n"
      ],
      "text/latex": [
       "A tibble: 6 × 3\n",
       "\\begin{tabular}{lll}\n",
       " wind & area & category\\\\\n",
       " <dbl> & <dbl> & <fct>\\\\\n",
       "\\hline\n",
       "\t 6.7 & 0 & high\\\\\n",
       "\t 0.9 & 0 & low \\\\\n",
       "\t 1.3 & 0 & low \\\\\n",
       "\t 4.0 & 0 & low \\\\\n",
       "\t 1.8 & 0 & low \\\\\n",
       "\t 5.4 & 0 & high\\\\\n",
       "\\end{tabular}\n"
      ],
      "text/markdown": [
       "\n",
       "A tibble: 6 × 3\n",
       "\n",
       "| wind &lt;dbl&gt; | area &lt;dbl&gt; | category &lt;fct&gt; |\n",
       "|---|---|---|\n",
       "| 6.7 | 0 | high |\n",
       "| 0.9 | 0 | low  |\n",
       "| 1.3 | 0 | low  |\n",
       "| 4.0 | 0 | low  |\n",
       "| 1.8 | 0 | low  |\n",
       "| 5.4 | 0 | high |\n",
       "\n"
      ],
      "text/plain": [
       "  wind area category\n",
       "1 6.7  0    high    \n",
       "2 0.9  0    low     \n",
       "3 1.3  0    low     \n",
       "4 4.0  0    low     \n",
       "5 1.8  0    low     \n",
       "6 5.4  0    high    "
      ]
     },
     "metadata": {},
     "output_type": "display_data"
    },
    {
     "data": {
      "image/png": "[encoded data removed]",
      "text/plain": [
       "plot without title"
      ]
     },
     "metadata": {
      "image/png": {
       "height": 240,
       "width": 720
      }
     },
     "output_type": "display_data"
    }
   ],
   "source": [
    "xs <- quantile(forest_fires_data$wind,c(0,1/2,1))\n",
    "\n",
    "# add category column\n",
    "forest_fires_data <- forest_fires_data %>%\n",
    "    mutate(category=cut(wind, breaks=xs, labels=c(\"low\",\"high\"),include.lowest = TRUE))\n",
    "head(forest_fires_data)\n",
    "\n",
    "wind_plot_categorized <- forest_fires_data %>%\n",
    "    ggplot(aes(x =wind, fill = category))+\n",
    "    geom_histogram(binwidth = 0.8) + \n",
    "    labs(x=\"Wind Speed\", y=\"Count\")+\n",
    "    ggtitle(\"Figure 2: Wind Speed Distribution\") +\n",
    "    scale_fill_discrete(name = \"Wind Speed Category\") +\n",
    "    theme(text = element_text(size = 12)) + \n",
    "    geom_vline(aes(xintercept = quantile(wind)[3]))\n",
    "\n",
    "box_plot <- forest_fires_data %>%\n",
    "  ggplot(aes(x = category, y = wind, fill = category)) +\n",
    "  geom_boxplot() +\n",
    "  labs(x=\"Wind Speed Category\", y=\"Wind Speed\") +\n",
    "  ggtitle(\"Figure 3: Boxplot of Wind Speed by Category\") \n",
    "\n",
    "options(repr.plot.width = 12, repr.plot.height = 4)\n",
    "plot_grid(wind_plot_categorized, box_plot)"
   ]
  },
  {
   "cell_type": "markdown",
   "id": "b47cee6f",
   "metadata": {},
   "source": [
    "Based on Figure 3, there is a considerable difference in wind speed. A confidence interval would be useful to see if their ranges overlap in a interesting manner. We could also have a confidence interval around the difference of the mean."
   ]
  },
  {
   "cell_type": "markdown",
   "id": "7759f887",
   "metadata": {},
   "source": [
    "## Area Burned Distributions"
   ]
  },
  {
   "cell_type": "code",
   "execution_count": 5,
   "id": "76083600",
   "metadata": {
    "vscode": {
     "languageId": "r"
    }
   },
   "outputs": [
    {
     "data": {
      "image/png": "[encoded data removed]",
      "text/plain": [
       "plot without title"
      ]
     },
     "metadata": {
      "image/png": {
       "height": 240,
       "width": 360
      }
     },
     "output_type": "display_data"
    }
   ],
   "source": [
    "options(repr.plot.width = 6, repr.plot.height = 4)\n",
    "\n",
    "#Visualizing the distribution of each variable\n",
    "area_burned_plot <- forest_fires_data %>%\n",
    "    ggplot(aes(x =area))+\n",
    "    geom_histogram(binwidth = 10) + \n",
    "    labs(x=\"Area Burned (ha)\", y=\"Count\")+\n",
    "    ggtitle(\"Figure 4: Area Burned Distribution\") +\n",
    "    scale_fill_discrete(name = \"Month of Fires\")+\n",
    "    theme(text = element_text(size = 12))\n",
    "area_burned_plot   "
   ]
  },
  {
   "cell_type": "markdown",
   "id": "7351feab",
   "metadata": {},
   "source": [
    "Figure 4 shows that it make sense to scale the data in a logrithmic scale.\n",
    "> See https://www.programmingr.com/tutorial/log-in-r/."
   ]
  },
  {
   "cell_type": "code",
   "execution_count": 6,
   "id": "84fd80de",
   "metadata": {
    "vscode": {
     "languageId": "r"
    }
   },
   "outputs": [],
   "source": [
    "forest_fires_data <- forest_fires_data %>%\n",
    "    mutate(area_log10 = log10(1+ area))"
   ]
  },
  {
   "cell_type": "code",
   "execution_count": 7,
   "id": "77519315",
   "metadata": {
    "vscode": {
     "languageId": "r"
    }
   },
   "outputs": [
    {
     "data": {
      "image/png": "[encoded data removed]",
      "text/plain": [
       "plot without title"
      ]
     },
     "metadata": {
      "image/png": {
       "height": 240,
       "width": 720
      }
     },
     "output_type": "display_data"
    }
   ],
   "source": [
    "options(repr.plot.width = 6, repr.plot.height = 4)\n",
    "\n",
    "area_burned_scaled_plot <- forest_fires_data %>%\n",
    "    ggplot(aes(x =area_log10))+\n",
    "    geom_histogram(binwidth = 0.5) + \n",
    "    labs(x=\"Area Burned (ha) [log 10 scaled]\", y=\"Count\")+\n",
    "    ggtitle(\"Figure 5: Area Burned Distribution (scaled)\") +\n",
    "    scale_fill_discrete(name = \"Month of Fires\") +\n",
    "    theme(text = element_text(size = 12))\n",
    "\n",
    "box_plot_burned <- forest_fires_data %>%\n",
    "  ggplot(aes(x = category, y = area_log10, fill = category)) +\n",
    "  geom_boxplot() +\n",
    "  labs(x=\"Scaled Area vs Wind Speed Category\", y=\"Scaled Area Burned (ha)\")+\n",
    "  ggtitle(\"Figure 6: Boxplot of Wind Speed by Category\")\n",
    "\n",
    "options(repr.plot.width = 12, repr.plot.height = 4)\n",
    "plot_grid(area_burned_scaled_plot, box_plot_burned)"
   ]
  },
  {
   "cell_type": "markdown",
   "id": "ecee1c84",
   "metadata": {},
   "source": [
    "##### Table 2: Summary Statistics of Forest Fires Data"
   ]
  },
  {
   "cell_type": "code",
   "execution_count": 8,
   "id": "eacb52a2",
   "metadata": {
    "vscode": {
     "languageId": "r"
    }
   },
   "outputs": [
    {
     "data": {
      "text/plain": [
       "      wind            area          category     area_log10    \n",
       " Min.   :0.400   Min.   :   0.000   low :300   Min.   :0.0000  \n",
       " 1st Qu.:2.200   1st Qu.:   0.000   high:  0   1st Qu.:0.0000  \n",
       " Median :2.700   Median :   0.495              Median :0.1746  \n",
       " Mean   :2.779   Mean   :  12.615              Mean   :0.4699  \n",
       " 3rd Qu.:3.600   3rd Qu.:   6.365              3rd Qu.:0.8672  \n",
       " Max.   :4.000   Max.   :1090.840              Max.   :3.0382  "
      ]
     },
     "metadata": {},
     "output_type": "display_data"
    },
    {
     "data": {
      "text/plain": [
       "      wind            area        category     area_log10    \n",
       " Min.   :4.500   Min.   :  0.00   low :  0   Min.   :0.0000  \n",
       " 1st Qu.:4.900   1st Qu.:  0.00   high:217   1st Qu.:0.0000  \n",
       " Median :5.400   Median :  0.61              Median :0.2068  \n",
       " Mean   :5.729   Mean   : 13.17              Mean   :0.5000  \n",
       " 3rd Qu.:6.300   3rd Qu.:  7.73              3rd Qu.:0.9410  \n",
       " Max.   :9.400   Max.   :746.28              Max.   :2.8735  "
      ]
     },
     "metadata": {},
     "output_type": "display_data"
    }
   ],
   "source": [
    "forest_fires_data %>%\n",
    "group_by(category) %>%\n",
    "filter(category == \"low\") %>%\n",
    "summary()\n",
    "\n",
    "forest_fires_data %>%\n",
    "group_by(category) %>%\n",
    "filter(category == \"high\") %>%\n",
    "summary()"
   ]
  }
 ],
 "metadata": {
  "kernelspec": {
   "display_name": "R",
   "language": "R",
   "name": "ir"
  },
  "language_info": {
   "codemirror_mode": "r",
   "file_extension": ".r",
   "mimetype": "text/x-r-source",
   "name": "R",
   "pygments_lexer": "r",
   "version": "4.1.3"
  },
  "vscode": {
   "interpreter": {
    "hash": "caa79e79b13b4a24ed1e40b8fd425b38aacc1b8fb3707c3bea2d025878df32c5"
   }
  }
 },
 "nbformat": 4,
 "nbformat_minor": 5
}
