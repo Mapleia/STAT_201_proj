{
 "cells": [
  {
   "cell_type": "markdown",
   "id": "d53904d8",
   "metadata": {},
   "source": [
    "# Preliminary Results\n"
   ]
  },
  {
   "cell_type": "code",
   "execution_count": 2,
   "id": "40b3908b",
   "metadata": {
    "vscode": {
     "languageId": "r"
    }
   },
   "outputs": [
    {
     "name": "stderr",
     "output_type": "stream",
     "text": [
      "-- \u001b[1mAttaching packages\u001b[22m --------------------------------------- tidyverse 1.3.2 --\n",
      "\u001b[32mv\u001b[39m \u001b[34mggplot2\u001b[39m 3.3.6      \u001b[32mv\u001b[39m \u001b[34mpurrr  \u001b[39m 0.3.4 \n",
      "\u001b[32mv\u001b[39m \u001b[34mtibble \u001b[39m 3.1.8      \u001b[32mv\u001b[39m \u001b[34mdplyr  \u001b[39m 1.0.10\n",
      "\u001b[32mv\u001b[39m \u001b[34mtidyr  \u001b[39m 1.2.1      \u001b[32mv\u001b[39m \u001b[34mstringr\u001b[39m 1.4.1 \n",
      "\u001b[32mv\u001b[39m \u001b[34mreadr  \u001b[39m 2.1.3      \u001b[32mv\u001b[39m \u001b[34mforcats\u001b[39m 0.5.2 \n",
      "-- \u001b[1mConflicts\u001b[22m ------------------------------------------ tidyverse_conflicts() --\n",
      "\u001b[31mx\u001b[39m \u001b[34mdplyr\u001b[39m::\u001b[32mfilter()\u001b[39m masks \u001b[34mstats\u001b[39m::filter()\n",
      "\u001b[31mx\u001b[39m \u001b[34mdplyr\u001b[39m::\u001b[32mlag()\u001b[39m    masks \u001b[34mstats\u001b[39m::lag()\n"
     ]
    }
   ],
   "source": [
    "# Load the necessary packages.\n",
    "library(tidyverse)\n",
    "library(infer)\n",
    "library(cowplot)\n",
    "library(broom)"
   ]
  },
  {
   "cell_type": "code",
   "execution_count": 3,
   "id": "025acc4e",
   "metadata": {
    "vscode": {
     "languageId": "r"
    }
   },
   "outputs": [
    {
     "name": "stderr",
     "output_type": "stream",
     "text": [
      "\u001b[1mRows: \u001b[22m\u001b[34m517\u001b[39m \u001b[1mColumns: \u001b[22m\u001b[34m13\u001b[39m\n",
      "\u001b[36m--\u001b[39m \u001b[1mColumn specification\u001b[22m \u001b[36m--------------------------------------------------------\u001b[39m\n",
      "\u001b[1mDelimiter:\u001b[22m \",\"\n",
      "\u001b[31mchr\u001b[39m  (2): month, day\n",
      "\u001b[32mdbl\u001b[39m (11): X, Y, FFMC, DMC, DC, ISI, temp, RH, wind, rain, area\n",
      "\n",
      "\u001b[36mi\u001b[39m Use `spec()` to retrieve the full column specification for this data.\n",
      "\u001b[36mi\u001b[39m Specify the column types or set `show_col_types = FALSE` to quiet this message.\n"
     ]
    },
    {
     "data": {
      "text/html": [
       "<table class=\"dataframe\">\n",
       "<caption>A tibble: 6 × 3</caption>\n",
       "<thead>\n",
       "\t<tr><th scope=col>month</th><th scope=col>wind</th><th scope=col>area</th></tr>\n",
       "\t<tr><th scope=col>&lt;fct&gt;</th><th scope=col>&lt;dbl&gt;</th><th scope=col>&lt;dbl&gt;</th></tr>\n",
       "</thead>\n",
       "<tbody>\n",
       "\t<tr><td>mar</td><td>6.7</td><td>0</td></tr>\n",
       "\t<tr><td>oct</td><td>0.9</td><td>0</td></tr>\n",
       "\t<tr><td>oct</td><td>1.3</td><td>0</td></tr>\n",
       "\t<tr><td>mar</td><td>4.0</td><td>0</td></tr>\n",
       "\t<tr><td>mar</td><td>1.8</td><td>0</td></tr>\n",
       "\t<tr><td>aug</td><td>5.4</td><td>0</td></tr>\n",
       "</tbody>\n",
       "</table>\n"
      ],
      "text/latex": [
       "A tibble: 6 × 3\n",
       "\\begin{tabular}{lll}\n",
       " month & wind & area\\\\\n",
       " <fct> & <dbl> & <dbl>\\\\\n",
       "\\hline\n",
       "\t mar & 6.7 & 0\\\\\n",
       "\t oct & 0.9 & 0\\\\\n",
       "\t oct & 1.3 & 0\\\\\n",
       "\t mar & 4.0 & 0\\\\\n",
       "\t mar & 1.8 & 0\\\\\n",
       "\t aug & 5.4 & 0\\\\\n",
       "\\end{tabular}\n"
      ],
      "text/markdown": [
       "\n",
       "A tibble: 6 × 3\n",
       "\n",
       "| month &lt;fct&gt; | wind &lt;dbl&gt; | area &lt;dbl&gt; |\n",
       "|---|---|---|\n",
       "| mar | 6.7 | 0 |\n",
       "| oct | 0.9 | 0 |\n",
       "| oct | 1.3 | 0 |\n",
       "| mar | 4.0 | 0 |\n",
       "| mar | 1.8 | 0 |\n",
       "| aug | 5.4 | 0 |\n",
       "\n"
      ],
      "text/plain": [
       "  month wind area\n",
       "1 mar   6.7  0   \n",
       "2 oct   0.9  0   \n",
       "3 oct   1.3  0   \n",
       "4 mar   4.0  0   \n",
       "5 mar   1.8  0   \n",
       "6 aug   5.4  0   "
      ]
     },
     "metadata": {},
     "output_type": "display_data"
    }
   ],
   "source": [
    "#Setting the seed.\n",
    "set.seed(1234)\n",
    "\n",
    "#Dowloading the data from the web and reading it in R.\n",
    "url <- \"https://archive.ics.uci.edu/ml/machine-learning-databases/forest-fires/forestfires.csv\"\n",
    "download.file (url,\"../data/forestfires.csv\" )\n",
    "\n",
    "forest_fires_data <-read_delim(\"../data/forestfires.csv\", skip=0, delim=\",\") %>%\n",
    "    select(month, wind, area) %>%\n",
    "    mutate(month = as.factor(month), wind = as.numeric(wind), area = as.numeric(area)) %>% #Wrangling data and selecting columns to be used in prediction\n",
    "    filter(!is.na(month) | !is.na(wind) | !is.na(area))\n",
    "    \n",
    "head(forest_fires_data)\n"
   ]
  },
  {
   "cell_type": "markdown",
   "id": "7759f887",
   "metadata": {},
   "source": [
    "##### Table 1: Top 6 Rows of Forest Fires Data"
   ]
  },
  {
   "cell_type": "code",
   "execution_count": 4,
   "id": "182c05a6",
   "metadata": {
    "vscode": {
     "languageId": "r"
    }
   },
   "outputs": [
    {
     "name": "stdout",
     "output_type": "stream",
     "text": [
      "     month          wind            area        \n",
      " aug    :184   Min.   :0.400   Min.   :   0.00  \n",
      " sep    :172   1st Qu.:2.700   1st Qu.:   0.00  \n",
      " mar    : 54   Median :4.000   Median :   0.52  \n",
      " jul    : 32   Mean   :4.018   Mean   :  12.85  \n",
      " feb    : 20   3rd Qu.:4.900   3rd Qu.:   6.57  \n",
      " jun    : 17   Max.   :9.400   Max.   :1090.84  \n",
      " (Other): 38                                    \n"
     ]
    }
   ],
   "source": [
    "#Visualizing the summary of the predictor variables.\n",
    "print(summary(forest_fires_data))"
   ]
  },
  {
   "cell_type": "markdown",
   "id": "6882a4f4",
   "metadata": {},
   "source": [
    "##### Table 2: Summary Statistics of Forest Fires Data"
   ]
  },
  {
   "cell_type": "code",
   "execution_count": 11,
   "id": "76083600",
   "metadata": {
    "vscode": {
     "languageId": "r"
    }
   },
   "outputs": [
    {
     "data": {
      "image/png": "[encoded data removed]",
      "text/plain": [
       "plot without title"
      ]
     },
     "metadata": {
      "image/png": {
       "height": 240,
       "width": 360
      }
     },
     "output_type": "display_data"
    },
    {
     "data": {
      "image/png": "[encoded data removed]",
      "text/plain": [
       "plot without title"
      ]
     },
     "metadata": {
      "image/png": {
       "height": 240,
       "width": 360
      }
     },
     "output_type": "display_data"
    }
   ],
   "source": [
    "options(repr.plot.width = 6, repr.plot.height = 4)\n",
    "\n",
    "#Visualizing the distribution of each variable\n",
    "plot_1 <- forest_fires_data %>%\n",
    "    ggplot(aes(x = wind, fill = month))+\n",
    "    geom_histogram(bins = 10) + \n",
    "    labs(x=\"Wind Speed (km/h)\", y=\"Count\")+\n",
    "    ggtitle(\"Figure 1: Wind Speed Distribution\") +\n",
    "    scale_fill_discrete(name = \"Month of Fires\")+\n",
    "    theme(text = element_text(size = 12)) \n",
    "plot_1\n",
    "\n",
    "plot_2 <- forest_fires_data %>%\n",
    "    ggplot(aes(x =area, fill = month))+\n",
    "    geom_histogram(binwidth = 10) + \n",
    "    labs(x=\"Area Burned (ha)\", y=\"Count\")+\n",
    "    ggtitle(\"Figure 2: Area Burned Distribution\") +\n",
    "    scale_fill_discrete(name = \"Month of Fires\")+\n",
    "    theme(text = element_text(size = 12))\n",
    "plot_2\n",
    "\n"
   ]
  },
  {
   "cell_type": "markdown",
   "id": "7351feab",
   "metadata": {},
   "source": [
    "Figure 2 shows that it make sense to scale the data in a logrithmic scale.\n",
    "> See https://www.programmingr.com/tutorial/log-in-r/."
   ]
  },
  {
   "cell_type": "code",
   "execution_count": 52,
   "id": "84fd80de",
   "metadata": {
    "vscode": {
     "languageId": "r"
    }
   },
   "outputs": [],
   "source": [
    "forest_fires_data <- forest_fires_data %>%\n",
    "    mutate(area_log10 = log10(area))"
   ]
  },
  {
   "cell_type": "code",
   "execution_count": 55,
   "id": "77519315",
   "metadata": {
    "vscode": {
     "languageId": "r"
    }
   },
   "outputs": [
    {
     "data": {
      "image/png": "[encoded data removed]",
      "text/plain": [
       "plot without title"
      ]
     },
     "metadata": {
      "image/png": {
       "height": 240,
       "width": 360
      }
     },
     "output_type": "display_data"
    },
    {
     "data": {
      "image/png": "[encoded data removed]",
      "text/plain": [
       "plot without title"
      ]
     },
     "metadata": {
      "image/png": {
       "height": 240,
       "width": 360
      }
     },
     "output_type": "display_data"
    }
   ],
   "source": [
    "area_burned_plot_2 <- forest_fires_data %>%\n",
    "    ggplot(aes(x =area_log10, fill = month))+\n",
    "    geom_histogram(binwidth = 0.3) + \n",
    "    labs(x=\"Area Burned (ha) [log 10 scaled]\", y=\"Count\")+\n",
    "    ggtitle(\"Figure 3: Area Burned Distribution (scaled)\") +\n",
    "    scale_fill_discrete(name = \"Month of Fires\") +\n",
    "    theme(text = element_text(size = 12)) + \n",
    "    geom_vline(aes(xintercept = median(area_log10)))\n",
    "area_burned_plot_2\n",
    "\n",
    "wind_plot <- forest_fires_data %>%\n",
    "    ggplot(aes(x =wind, fill = month))+\n",
    "    geom_histogram(binwidth = 1) + \n",
    "    labs(x=\"Wind Speed\", y=\"Count\")+\n",
    "    ggtitle(\"Figure 4: Wind Speed Distribution\") +\n",
    "    scale_fill_discrete(name = \"Month of Fires\") +\n",
    "    theme(text = element_text(size = 12)) + \n",
    "    geom_vline(aes(xintercept = quantile(wind)[3]))\n",
    "wind_plot"
   ]
  },
  {
   "cell_type": "markdown",
   "id": "f1c34dd6",
   "metadata": {},
   "source": [
    "Based on that wind speed is almost a normal distribution (without much modification), we can safely assume that we can categorize wind speed into \"high\" and \"low\"."
   ]
  },
  {
   "cell_type": "code",
   "execution_count": 58,
   "id": "ae27de60",
   "metadata": {
    "vscode": {
     "languageId": "r"
    }
   },
   "outputs": [
    {
     "data": {
      "text/html": [
       "<table class=\"dataframe\">\n",
       "<caption>A tibble: 6 × 5</caption>\n",
       "<thead>\n",
       "\t<tr><th scope=col>month</th><th scope=col>wind</th><th scope=col>area</th><th scope=col>area_log10</th><th scope=col>category</th></tr>\n",
       "\t<tr><th scope=col>&lt;fct&gt;</th><th scope=col>&lt;dbl&gt;</th><th scope=col>&lt;dbl&gt;</th><th scope=col>&lt;dbl&gt;</th><th scope=col>&lt;fct&gt;</th></tr>\n",
       "</thead>\n",
       "<tbody>\n",
       "\t<tr><td>jul</td><td>2.7</td><td>0.36</td><td>-0.4436975</td><td>low </td></tr>\n",
       "\t<tr><td>sep</td><td>2.2</td><td>0.43</td><td>-0.3665315</td><td>low </td></tr>\n",
       "\t<tr><td>sep</td><td>1.8</td><td>0.47</td><td>-0.3279021</td><td>low </td></tr>\n",
       "\t<tr><td>aug</td><td>4.5</td><td>0.55</td><td>-0.2596373</td><td>high</td></tr>\n",
       "\t<tr><td>aug</td><td>8.9</td><td>0.61</td><td>-0.2146702</td><td>high</td></tr>\n",
       "\t<tr><td>jul</td><td>5.4</td><td>0.71</td><td>-0.1487417</td><td>high</td></tr>\n",
       "</tbody>\n",
       "</table>\n"
      ],
      "text/latex": [
       "A tibble: 6 × 5\n",
       "\\begin{tabular}{lllll}\n",
       " month & wind & area & area\\_log10 & category\\\\\n",
       " <fct> & <dbl> & <dbl> & <dbl> & <fct>\\\\\n",
       "\\hline\n",
       "\t jul & 2.7 & 0.36 & -0.4436975 & low \\\\\n",
       "\t sep & 2.2 & 0.43 & -0.3665315 & low \\\\\n",
       "\t sep & 1.8 & 0.47 & -0.3279021 & low \\\\\n",
       "\t aug & 4.5 & 0.55 & -0.2596373 & high\\\\\n",
       "\t aug & 8.9 & 0.61 & -0.2146702 & high\\\\\n",
       "\t jul & 5.4 & 0.71 & -0.1487417 & high\\\\\n",
       "\\end{tabular}\n"
      ],
      "text/markdown": [
       "\n",
       "A tibble: 6 × 5\n",
       "\n",
       "| month &lt;fct&gt; | wind &lt;dbl&gt; | area &lt;dbl&gt; | area_log10 &lt;dbl&gt; | category &lt;fct&gt; |\n",
       "|---|---|---|---|---|\n",
       "| jul | 2.7 | 0.36 | -0.4436975 | low  |\n",
       "| sep | 2.2 | 0.43 | -0.3665315 | low  |\n",
       "| sep | 1.8 | 0.47 | -0.3279021 | low  |\n",
       "| aug | 4.5 | 0.55 | -0.2596373 | high |\n",
       "| aug | 8.9 | 0.61 | -0.2146702 | high |\n",
       "| jul | 5.4 | 0.71 | -0.1487417 | high |\n",
       "\n"
      ],
      "text/plain": [
       "  month wind area area_log10 category\n",
       "1 jul   2.7  0.36 -0.4436975 low     \n",
       "2 sep   2.2  0.43 -0.3665315 low     \n",
       "3 sep   1.8  0.47 -0.3279021 low     \n",
       "4 aug   4.5  0.55 -0.2596373 high    \n",
       "5 aug   8.9  0.61 -0.2146702 high    \n",
       "6 jul   5.4  0.71 -0.1487417 high    "
      ]
     },
     "metadata": {},
     "output_type": "display_data"
    }
   ],
   "source": [
    "xs <- quantile(forest_fires_data$wind,c(0,1/2,1))\n",
    "\n",
    "forest_fires_data <- forest_fires_data %>%\n",
    "    mutate(category=cut(wind, breaks=xs, labels=c(\"low\",\"high\"),include.lowest = TRUE))\n",
    "head(forest_fires_data)"
   ]
  },
  {
   "cell_type": "code",
   "execution_count": 65,
   "id": "4dc74cb4",
   "metadata": {
    "vscode": {
     "languageId": "r"
    }
   },
   "outputs": [
    {
     "data": {
      "image/png": "[encoded data removed]",
      "text/plain": [
       "plot without title"
      ]
     },
     "metadata": {
      "image/png": {
       "height": 240,
       "width": 360
      }
     },
     "output_type": "display_data"
    }
   ],
   "source": [
    "wind_plot_categorized <- forest_fires_data %>%\n",
    "    ggplot(aes(x =wind, fill = category))+\n",
    "    geom_histogram(binwidth = 0.8) + \n",
    "    labs(x=\"Wind Speed\", y=\"Count\")+\n",
    "    ggtitle(\"Figure 5: Wind Speed Distribution\") +\n",
    "    scale_fill_discrete(name = \"Wind Speed Category\") +\n",
    "    theme(text = element_text(size = 12)) + \n",
    "    geom_vline(aes(xintercept = quantile(wind)[3]))\n",
    "wind_plot_categorized"
   ]
  }
 ],
 "metadata": {
  "kernelspec": {
   "display_name": "R",
   "language": "R",
   "name": "ir"
  },
  "language_info": {
   "codemirror_mode": "r",
   "file_extension": ".r",
   "mimetype": "text/x-r-source",
   "name": "R",
   "pygments_lexer": "r",
   "version": "4.1.3"
  }
 },
 "nbformat": 4,
 "nbformat_minor": 5
}
