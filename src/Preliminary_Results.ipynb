{
 "cells": [
  {
   "cell_type": "markdown",
   "id": "d53904d8",
   "metadata": {},
   "source": [
    "# Preliminary Results\n"
   ]
  },
  {
   "cell_type": "code",
   "execution_count": 19,
   "id": "40b3908b",
   "metadata": {
    "vscode": {
     "languageId": "r"
    }
   },
   "outputs": [],
   "source": [
    "# Load the necessary packages.\n",
    "library(GGally)\n",
    "library(tidyverse)\n",
    "library(infer)\n",
    "library(cowplot)\n",
    "library(broom)"
   ]
  },
  {
   "cell_type": "code",
   "execution_count": 3,
   "id": "025acc4e",
   "metadata": {
    "vscode": {
     "languageId": "r"
    }
   },
   "outputs": [
    {
     "name": "stderr",
     "output_type": "stream",
     "text": [
      "\u001b[1mRows: \u001b[22m\u001b[34m517\u001b[39m \u001b[1mColumns: \u001b[22m\u001b[34m13\u001b[39m\n",
      "\u001b[36m--\u001b[39m \u001b[1mColumn specification\u001b[22m \u001b[36m--------------------------------------------------------\u001b[39m\n",
      "\u001b[1mDelimiter:\u001b[22m \",\"\n",
      "\u001b[31mchr\u001b[39m  (2): month, day\n",
      "\u001b[32mdbl\u001b[39m (11): X, Y, FFMC, DMC, DC, ISI, temp, RH, wind, rain, area\n",
      "\n",
      "\u001b[36mi\u001b[39m Use `spec()` to retrieve the full column specification for this data.\n",
      "\u001b[36mi\u001b[39m Specify the column types or set `show_col_types = FALSE` to quiet this message.\n"
     ]
    },
    {
     "data": {
      "text/html": [
       "<table class=\"dataframe\">\n",
       "<caption>A tibble: 6 × 3</caption>\n",
       "<thead>\n",
       "\t<tr><th scope=col>month</th><th scope=col>wind</th><th scope=col>area</th></tr>\n",
       "\t<tr><th scope=col>&lt;fct&gt;</th><th scope=col>&lt;dbl&gt;</th><th scope=col>&lt;dbl&gt;</th></tr>\n",
       "</thead>\n",
       "<tbody>\n",
       "\t<tr><td>mar</td><td>6.7</td><td>0</td></tr>\n",
       "\t<tr><td>oct</td><td>0.9</td><td>0</td></tr>\n",
       "\t<tr><td>oct</td><td>1.3</td><td>0</td></tr>\n",
       "\t<tr><td>mar</td><td>4.0</td><td>0</td></tr>\n",
       "\t<tr><td>mar</td><td>1.8</td><td>0</td></tr>\n",
       "\t<tr><td>aug</td><td>5.4</td><td>0</td></tr>\n",
       "</tbody>\n",
       "</table>\n"
      ],
      "text/latex": [
       "A tibble: 6 × 3\n",
       "\\begin{tabular}{lll}\n",
       " month & wind & area\\\\\n",
       " <fct> & <dbl> & <dbl>\\\\\n",
       "\\hline\n",
       "\t mar & 6.7 & 0\\\\\n",
       "\t oct & 0.9 & 0\\\\\n",
       "\t oct & 1.3 & 0\\\\\n",
       "\t mar & 4.0 & 0\\\\\n",
       "\t mar & 1.8 & 0\\\\\n",
       "\t aug & 5.4 & 0\\\\\n",
       "\\end{tabular}\n"
      ],
      "text/markdown": [
       "\n",
       "A tibble: 6 × 3\n",
       "\n",
       "| month &lt;fct&gt; | wind &lt;dbl&gt; | area &lt;dbl&gt; |\n",
       "|---|---|---|\n",
       "| mar | 6.7 | 0 |\n",
       "| oct | 0.9 | 0 |\n",
       "| oct | 1.3 | 0 |\n",
       "| mar | 4.0 | 0 |\n",
       "| mar | 1.8 | 0 |\n",
       "| aug | 5.4 | 0 |\n",
       "\n"
      ],
      "text/plain": [
       "  month wind area\n",
       "1 mar   6.7  0   \n",
       "2 oct   0.9  0   \n",
       "3 oct   1.3  0   \n",
       "4 mar   4.0  0   \n",
       "5 mar   1.8  0   \n",
       "6 aug   5.4  0   "
      ]
     },
     "metadata": {},
     "output_type": "display_data"
    }
   ],
   "source": [
    "#Setting the seed.\n",
    "set.seed(1234)\n",
    "\n",
    "#Dowloading the data from the web and reading it in R.\n",
    "url <- \"https://archive.ics.uci.edu/ml/machine-learning-databases/forest-fires/forestfires.csv\"\n",
    "download.file (url,\"../data/forestfires.csv\" )\n",
    "\n",
    "forest_fires_data <-read_delim(\"../data/forestfires.csv\", skip=0, delim=\",\") %>%\n",
    "    select(month, wind, area) %>%\n",
    "    mutate(wind = as.numeric(wind), area = as.numeric(area)) %>% #Wrangling data and selecting columns to be used in prediction\n",
    "    filter(!is.na(wind) | !is.na(area))\n",
    "    \n",
    "head(forest_fires_data)\n"
   ]
  },
  {
   "cell_type": "markdown",
   "id": "7759f887",
   "metadata": {},
   "source": [
    "##### Table 1: Top 6 Rows of Forest Fires Data"
   ]
  },
  {
   "cell_type": "markdown",
   "id": "6882a4f4",
   "metadata": {},
   "source": [
    "##### Table 2: Summary Statistics of Forest Fires Data"
   ]
  },
  {
   "cell_type": "code",
   "execution_count": 44,
   "id": "76083600",
   "metadata": {
    "vscode": {
     "languageId": "r"
    }
   },
   "outputs": [],
   "source": [
    "options(repr.plot.width = 6, repr.plot.height = 4)\n",
    "\n",
    "#Visualizing the distribution of each variable\n",
    "area_burned_plot <- forest_fires_data %>%\n",
    "    ggplot(aes(x =area))+\n",
    "    geom_histogram(binwidth = 10) + \n",
    "    labs(x=\"Area Burned (ha)\", y=\"Count\")+\n",
    "    ggtitle(\"Figure 1: Area Burned Distribution\") +\n",
    "    scale_fill_discrete(name = \"Month of Fires\")+\n",
    "    theme(text = element_text(size = 12))\n",
    "area_burned_plot   "
   ]
  },
  {
   "cell_type": "markdown",
   "id": "7351feab",
   "metadata": {},
   "source": [
    "Figure 2 shows that it make sense to scale the data in a logrithmic scale.\n",
    "> See https://www.programmingr.com/tutorial/log-in-r/."
   ]
  },
  {
   "cell_type": "code",
   "execution_count": 27,
   "id": "84fd80de",
   "metadata": {
    "vscode": {
     "languageId": "r"
    }
   },
   "outputs": [],
   "source": [
    "forest_fires_data <- forest_fires_data %>%\n",
    "    mutate(area_log10 = log10(1+ area))"
   ]
  },
  {
   "cell_type": "code",
   "execution_count": 41,
   "id": "77519315",
   "metadata": {
    "vscode": {
     "languageId": "r"
    }
   },
   "outputs": [],
   "source": [
    "area_burned_scaled_plot <- forest_fires_data %>%\n",
    "    ggplot(aes(x =area_log10, fill = month))+\n",
    "    geom_histogram(binwidth = 0.5) + \n",
    "    labs(x=\"Area Burned (ha) [log 10 scaled]\", y=\"Count\")+\n",
    "    ggtitle(\"Figure 2: Area Burned Distribution (scaled)\") +\n",
    "    scale_fill_discrete(name = \"Month of Fires\") +\n",
    "    theme(text = element_text(size = 12))\n",
    "area_burned_scaled_plot"
   ]
  },
  {
   "cell_type": "code",
   "execution_count": 40,
   "id": "e1fd5505",
   "metadata": {
    "vscode": {
     "languageId": "r"
    }
   },
   "outputs": [],
   "source": [
    "wind_speed_plot <- forest_fires_data %>%\n",
    "    ggplot(aes(x = wind, fill = month))+\n",
    "    geom_histogram(binwidth = 0.8) + \n",
    "    labs(x=\"Wind Speed (km/h)\", y=\"Count\")+\n",
    "    ggtitle(\"Figure 3: Wind Speed Distribution\") +\n",
    "    scale_fill_discrete(name = \"Month of Fires\")+\n",
    "    theme(text = element_text(size = 12)) \n",
    "wind_speed_plot"
   ]
  },
  {
   "cell_type": "markdown",
   "id": "f1c34dd6",
   "metadata": {},
   "source": [
    "Based on that wind speed is almost a normal distribution (without much modification), we can safely assume that we can categorize wind speed into \"high\" and \"low\"."
   ]
  },
  {
   "cell_type": "code",
   "execution_count": 9,
   "id": "ae27de60",
   "metadata": {
    "vscode": {
     "languageId": "r"
    }
   },
   "outputs": [
    {
     "data": {
      "text/html": [
       "<table class=\"dataframe\">\n",
       "<caption>A tibble: 6 × 5</caption>\n",
       "<thead>\n",
       "\t<tr><th scope=col>month</th><th scope=col>wind</th><th scope=col>area</th><th scope=col>area_log10</th><th scope=col>category</th></tr>\n",
       "\t<tr><th scope=col>&lt;fct&gt;</th><th scope=col>&lt;dbl&gt;</th><th scope=col>&lt;dbl&gt;</th><th scope=col>&lt;dbl&gt;</th><th scope=col>&lt;fct&gt;</th></tr>\n",
       "</thead>\n",
       "<tbody>\n",
       "\t<tr><td>mar</td><td>6.7</td><td>0</td><td>-Inf</td><td>high</td></tr>\n",
       "\t<tr><td>oct</td><td>0.9</td><td>0</td><td>-Inf</td><td>low </td></tr>\n",
       "\t<tr><td>oct</td><td>1.3</td><td>0</td><td>-Inf</td><td>low </td></tr>\n",
       "\t<tr><td>mar</td><td>4.0</td><td>0</td><td>-Inf</td><td>low </td></tr>\n",
       "\t<tr><td>mar</td><td>1.8</td><td>0</td><td>-Inf</td><td>low </td></tr>\n",
       "\t<tr><td>aug</td><td>5.4</td><td>0</td><td>-Inf</td><td>high</td></tr>\n",
       "</tbody>\n",
       "</table>\n"
      ],
      "text/latex": [
       "A tibble: 6 × 5\n",
       "\\begin{tabular}{lllll}\n",
       " month & wind & area & area\\_log10 & category\\\\\n",
       " <fct> & <dbl> & <dbl> & <dbl> & <fct>\\\\\n",
       "\\hline\n",
       "\t mar & 6.7 & 0 & -Inf & high\\\\\n",
       "\t oct & 0.9 & 0 & -Inf & low \\\\\n",
       "\t oct & 1.3 & 0 & -Inf & low \\\\\n",
       "\t mar & 4.0 & 0 & -Inf & low \\\\\n",
       "\t mar & 1.8 & 0 & -Inf & low \\\\\n",
       "\t aug & 5.4 & 0 & -Inf & high\\\\\n",
       "\\end{tabular}\n"
      ],
      "text/markdown": [
       "\n",
       "A tibble: 6 × 5\n",
       "\n",
       "| month &lt;fct&gt; | wind &lt;dbl&gt; | area &lt;dbl&gt; | area_log10 &lt;dbl&gt; | category &lt;fct&gt; |\n",
       "|---|---|---|---|---|\n",
       "| mar | 6.7 | 0 | -Inf | high |\n",
       "| oct | 0.9 | 0 | -Inf | low  |\n",
       "| oct | 1.3 | 0 | -Inf | low  |\n",
       "| mar | 4.0 | 0 | -Inf | low  |\n",
       "| mar | 1.8 | 0 | -Inf | low  |\n",
       "| aug | 5.4 | 0 | -Inf | high |\n",
       "\n"
      ],
      "text/plain": [
       "  month wind area area_log10 category\n",
       "1 mar   6.7  0    -Inf       high    \n",
       "2 oct   0.9  0    -Inf       low     \n",
       "3 oct   1.3  0    -Inf       low     \n",
       "4 mar   4.0  0    -Inf       low     \n",
       "5 mar   1.8  0    -Inf       low     \n",
       "6 aug   5.4  0    -Inf       high    "
      ]
     },
     "metadata": {},
     "output_type": "display_data"
    }
   ],
   "source": [
    "xs <- quantile(forest_fires_data$wind,c(0,1/2,1))\n",
    "\n",
    "forest_fires_data <- forest_fires_data %>%\n",
    "    mutate(category=cut(wind, breaks=xs, labels=c(\"low\",\"high\"),include.lowest = TRUE))\n",
    "head(forest_fires_data)"
   ]
  },
  {
   "cell_type": "code",
   "execution_count": 10,
   "id": "4dc74cb4",
   "metadata": {
    "vscode": {
     "languageId": "r"
    }
   },
   "outputs": [
    {
     "data": {
      "image/png": "[encoded data removed]",
      "text/plain": [
       "plot without title"
      ]
     },
     "metadata": {
      "image/png": {
       "height": 240,
       "width": 360
      }
     },
     "output_type": "display_data"
    }
   ],
   "source": [
    "wind_plot_categorized <- forest_fires_data %>%\n",
    "    ggplot(aes(x =wind, fill = category))+\n",
    "    geom_histogram(binwidth = 0.8) + \n",
    "    labs(x=\"Wind Speed\", y=\"Count\")+\n",
    "    ggtitle(\"Figure 4: Wind Speed Distribution\") +\n",
    "    scale_fill_discrete(name = \"Wind Speed Category\") +\n",
    "    theme(text = element_text(size = 12)) + \n",
    "    geom_vline(aes(xintercept = quantile(wind)[3]))\n"
   ]
  },
  {
   "cell_type": "code",
   "execution_count": 50,
   "id": "a1074d25",
   "metadata": {
    "vscode": {
     "languageId": "r"
    }
   },
   "outputs": [],
   "source": [
    "box_plot <- forest_fires_data %>%\n",
    "  ggplot(aes(x = category, y = wind, fill = category)) +\n",
    "  geom_boxplot() +\n",
    "  labs(x=\"Wind Speed Category\", y=\"Wind Speed\")+\n",
    "  ggtitle(\"Figure 5: Boxplot of Wind Speed by Category\")\n"
   ]
  },
  {
   "cell_type": "code",
   "execution_count": 51,
   "id": "ea4048d3",
   "metadata": {
    "vscode": {
     "languageId": "r"
    }
   },
   "outputs": [
    {
     "data": {
      "image/png": "[encoded data removed]",
      "text/plain": [
       "plot without title"
      ]
     },
     "metadata": {
      "image/png": {
       "height": 360,
       "width": 1200
      }
     },
     "output_type": "display_data"
    }
   ],
   "source": [
    "options(repr.plot.width = 20, repr.plot.height = 6)\n",
    "plot_grid(box_plot, wind_plot_categorized)"
   ]
  },
  {
   "cell_type": "code",
   "execution_count": 39,
   "id": "67c46f67",
   "metadata": {
    "vscode": {
     "languageId": "r"
    }
   },
   "outputs": [
    {
     "data": {
      "image/png": "[encoded data removed]",
      "text/plain": [
       "plot without title"
      ]
     },
     "metadata": {
      "image/png": {
       "height": 240,
       "width": 360
      }
     },
     "output_type": "display_data"
    }
   ],
   "source": [
    "ggpairs(forest_fires_data %>% select(wind, area_log10))"
   ]
  },
  {
   "cell_type": "code",
   "execution_count": 33,
   "id": "eacb52a2",
   "metadata": {
    "vscode": {
     "languageId": "r"
    }
   },
   "outputs": [
    {
     "data": {
      "text/plain": [
       "     month          wind            area            area_log10     category  \n",
       " sep    :120   Min.   :0.400   Min.   :   0.000   Min.   :0.0000   low :300  \n",
       " aug    :103   1st Qu.:2.200   1st Qu.:   0.000   1st Qu.:0.0000   high:  0  \n",
       " jul    : 20   Median :2.700   Median :   0.495   Median :0.1746             \n",
       " mar    : 19   Mean   :2.779   Mean   :  12.615   Mean   :0.4699             \n",
       " feb    : 14   3rd Qu.:3.600   3rd Qu.:   6.365   3rd Qu.:0.8672             \n",
       " oct    : 10   Max.   :4.000   Max.   :1090.840   Max.   :3.0382             \n",
       " (Other): 14                                                                 "
      ]
     },
     "metadata": {},
     "output_type": "display_data"
    }
   ],
   "source": [
    "forest_fires_data %>%\n",
    "group_by(category) %>%\n",
    "filter(category == \"low\") %>%\n",
    "summary()"
   ]
  },
  {
   "cell_type": "code",
   "execution_count": 34,
   "id": "c265db49",
   "metadata": {
    "vscode": {
     "languageId": "r"
    }
   },
   "outputs": [
    {
     "data": {
      "text/plain": [
       "     month         wind            area          area_log10     category  \n",
       " aug    :81   Min.   :4.500   Min.   :  0.00   Min.   :0.0000   low :  0  \n",
       " sep    :52   1st Qu.:4.900   1st Qu.:  0.00   1st Qu.:0.0000   high:217  \n",
       " mar    :35   Median :5.400   Median :  0.61   Median :0.2068             \n",
       " jul    :12   Mean   :5.729   Mean   : 13.17   Mean   :0.5000             \n",
       " jun    :10   3rd Qu.:6.300   3rd Qu.:  7.73   3rd Qu.:0.9410             \n",
       " dec    : 9   Max.   :9.400   Max.   :746.28   Max.   :2.8735             \n",
       " (Other):18                                                               "
      ]
     },
     "metadata": {},
     "output_type": "display_data"
    }
   ],
   "source": [
    "forest_fires_data %>%\n",
    "group_by(category) %>%\n",
    "filter(category == \"high\") %>%\n",
    "summary()"
   ]
  }
 ],
 "metadata": {
  "kernelspec": {
   "display_name": "R",
   "language": "R",
   "name": "ir"
  },
  "language_info": {
   "codemirror_mode": "r",
   "file_extension": ".r",
   "mimetype": "text/x-r-source",
   "name": "R",
   "pygments_lexer": "r",
   "version": "4.1.3"
  },
  "vscode": {
   "interpreter": {
    "hash": "caa79e79b13b4a24ed1e40b8fd425b38aacc1b8fb3707c3bea2d025878df32c5"
   }
  }
 },
 "nbformat": 4,
 "nbformat_minor": 5
}
