{
 "cells": [
  {
   "cell_type": "markdown",
   "metadata": {},
   "source": [
    "# Methods and Results"
   ]
  },
  {
   "cell_type": "code",
   "execution_count": 1,
   "metadata": {
    "vscode": {
     "languageId": "r"
    }
   },
   "outputs": [
    {
     "name": "stderr",
     "output_type": "stream",
     "text": [
      "Loading required package: ggplot2\n",
      "\n",
      "Registered S3 method overwritten by 'GGally':\n",
      "  method from   \n",
      "  +.gg   ggplot2\n",
      "\n",
      "-- \u001b[1mAttaching packages\u001b[22m --------------------------------------- tidyverse 1.3.2 --\n",
      "\u001b[32mv\u001b[39m \u001b[34mtibble \u001b[39m 3.1.8      \u001b[32mv\u001b[39m \u001b[34mdplyr  \u001b[39m 1.0.10\n",
      "\u001b[32mv\u001b[39m \u001b[34mtidyr  \u001b[39m 1.2.1      \u001b[32mv\u001b[39m \u001b[34mstringr\u001b[39m 1.4.1 \n",
      "\u001b[32mv\u001b[39m \u001b[34mreadr  \u001b[39m 2.1.3      \u001b[32mv\u001b[39m \u001b[34mforcats\u001b[39m 0.5.2 \n",
      "\u001b[32mv\u001b[39m \u001b[34mpurrr  \u001b[39m 0.3.5      \n",
      "-- \u001b[1mConflicts\u001b[22m ------------------------------------------ tidyverse_conflicts() --\n",
      "\u001b[31mx\u001b[39m \u001b[34mdplyr\u001b[39m::\u001b[32mfilter()\u001b[39m masks \u001b[34mstats\u001b[39m::filter()\n",
      "\u001b[31mx\u001b[39m \u001b[34mdplyr\u001b[39m::\u001b[32mlag()\u001b[39m    masks \u001b[34mstats\u001b[39m::lag()\n"
     ]
    }
   ],
   "source": [
    "# import the libraries used for analysis\n",
    "\n",
    "library(GGally)\n",
    "library(tidyverse)\n",
    "library(infer)\n",
    "library(cowplot)\n",
    "library(broom)"
   ]
  },
  {
   "cell_type": "code",
   "execution_count": 3,
   "metadata": {
    "vscode": {
     "languageId": "r"
    }
   },
   "outputs": [
    {
     "name": "stderr",
     "output_type": "stream",
     "text": [
      "\u001b[1mRows: \u001b[22m\u001b[34m517\u001b[39m \u001b[1mColumns: \u001b[22m\u001b[34m13\u001b[39m\n",
      "\u001b[36m--\u001b[39m \u001b[1mColumn specification\u001b[22m \u001b[36m--------------------------------------------------------\u001b[39m\n",
      "\u001b[1mDelimiter:\u001b[22m \",\"\n",
      "\u001b[31mchr\u001b[39m  (2): month, day\n",
      "\u001b[32mdbl\u001b[39m (11): X, Y, FFMC, DMC, DC, ISI, temp, RH, wind, rain, area\n",
      "\n",
      "\u001b[36mi\u001b[39m Use `spec()` to retrieve the full column specification for this data.\n",
      "\u001b[36mi\u001b[39m Specify the column types or set `show_col_types = FALSE` to quiet this message.\n"
     ]
    },
    {
     "data": {
      "text/html": [
       "<table class=\"dataframe\">\n",
       "<caption>A tibble: 6 × 4</caption>\n",
       "<thead>\n",
       "\t<tr><th scope=col>wind</th><th scope=col>area</th><th scope=col>category</th><th scope=col>area_log10</th></tr>\n",
       "\t<tr><th scope=col>&lt;dbl&gt;</th><th scope=col>&lt;dbl&gt;</th><th scope=col>&lt;fct&gt;</th><th scope=col>&lt;dbl&gt;</th></tr>\n",
       "</thead>\n",
       "<tbody>\n",
       "\t<tr><td>6.7</td><td>0</td><td>high</td><td>0</td></tr>\n",
       "\t<tr><td>0.9</td><td>0</td><td>low </td><td>0</td></tr>\n",
       "\t<tr><td>1.3</td><td>0</td><td>low </td><td>0</td></tr>\n",
       "\t<tr><td>4.0</td><td>0</td><td>low </td><td>0</td></tr>\n",
       "\t<tr><td>1.8</td><td>0</td><td>low </td><td>0</td></tr>\n",
       "\t<tr><td>5.4</td><td>0</td><td>high</td><td>0</td></tr>\n",
       "</tbody>\n",
       "</table>\n"
      ],
      "text/latex": [
       "A tibble: 6 × 4\n",
       "\\begin{tabular}{llll}\n",
       " wind & area & category & area\\_log10\\\\\n",
       " <dbl> & <dbl> & <fct> & <dbl>\\\\\n",
       "\\hline\n",
       "\t 6.7 & 0 & high & 0\\\\\n",
       "\t 0.9 & 0 & low  & 0\\\\\n",
       "\t 1.3 & 0 & low  & 0\\\\\n",
       "\t 4.0 & 0 & low  & 0\\\\\n",
       "\t 1.8 & 0 & low  & 0\\\\\n",
       "\t 5.4 & 0 & high & 0\\\\\n",
       "\\end{tabular}\n"
      ],
      "text/markdown": [
       "\n",
       "A tibble: 6 × 4\n",
       "\n",
       "| wind &lt;dbl&gt; | area &lt;dbl&gt; | category &lt;fct&gt; | area_log10 &lt;dbl&gt; |\n",
       "|---|---|---|---|\n",
       "| 6.7 | 0 | high | 0 |\n",
       "| 0.9 | 0 | low  | 0 |\n",
       "| 1.3 | 0 | low  | 0 |\n",
       "| 4.0 | 0 | low  | 0 |\n",
       "| 1.8 | 0 | low  | 0 |\n",
       "| 5.4 | 0 | high | 0 |\n",
       "\n"
      ],
      "text/plain": [
       "  wind area category area_log10\n",
       "1 6.7  0    high     0         \n",
       "2 0.9  0    low      0         \n",
       "3 1.3  0    low      0         \n",
       "4 4.0  0    low      0         \n",
       "5 1.8  0    low      0         \n",
       "6 5.4  0    high     0         "
      ]
     },
     "metadata": {},
     "output_type": "display_data"
    }
   ],
   "source": [
    "order <- c(\"low\",\"high\")\n",
    "\n",
    "dataset <- read_csv('../data/forestfires.csv') %>%\n",
    "  select(wind, area) %>%\n",
    "  mutate(wind = as.numeric(wind), area = as.numeric(area)) %>% #Wrangling data and selecting columns to be used in prediction\n",
    "  filter(!is.na(wind) | !is.na(area)) %>%\n",
    "  mutate(\n",
    "    category=cut(wind, breaks=quantile(wind,c(0,1/2,1)), labels=order,include.lowest = TRUE),\n",
    "    area_log10 = log10(1+ area)\n",
    "  )\n",
    "\n",
    "head(dataset)"
   ]
  },
  {
   "cell_type": "code",
   "execution_count": 4,
   "metadata": {
    "vscode": {
     "languageId": "r"
    }
   },
   "outputs": [
    {
     "name": "stdout",
     "output_type": "stream",
     "text": [
      "\u001b[90m# A tibble: 1 x 2\u001b[39m\n",
      "  lower_ci upper_ci\n",
      "     \u001b[3m\u001b[90m<dbl>\u001b[39m\u001b[23m    \u001b[3m\u001b[90m<dbl>\u001b[39m\u001b[23m\n",
      "\u001b[90m1\u001b[39m    -\u001b[31m11\u001b[39m\u001b[31m.\u001b[39m\u001b[31m7\u001b[39m     10.5\n"
     ]
    },
    {
     "data": {
      "image/png": "[encoded data removed]",
      "text/plain": [
       "plot without title"
      ]
     },
     "metadata": {
      "image/png": {
       "height": 420,
       "width": 420
      }
     },
     "output_type": "display_data"
    }
   ],
   "source": [
    "bootstrap_dist_data_infer <- dataset %>%\n",
    "\tspecify(formula = area~category) %>%\n",
    "\tgenerate(type = \"bootstrap\", reps = 2000) %>%\n",
    "\tcalculate(stat = \"diff in means\", order = order) \n",
    "\t\n",
    "percentile_ci <- bootstrap_dist_data_infer\t%>%\n",
    "\tget_ci(type = \"percentile\", level = 0.95)\n",
    "\n",
    "print(percentile_ci)\n",
    "bootstrap_dist_data_infer\t%>%\tvisualize() +\n",
    "\tshade_confidence_interval(endpoints = percentile_ci)"
   ]
  },
  {
   "cell_type": "code",
   "execution_count": 5,
   "metadata": {
    "vscode": {
     "languageId": "r"
    }
   },
   "outputs": [
    {
     "name": "stdout",
     "output_type": "stream",
     "text": [
      "\u001b[90m# A tibble: 1 x 2\u001b[39m\n",
      "  lower_ci upper_ci\n",
      "     \u001b[3m\u001b[90m<dbl>\u001b[39m\u001b[23m    \u001b[3m\u001b[90m<dbl>\u001b[39m\u001b[23m\n",
      "\u001b[90m1\u001b[39m    -\u001b[31m16\u001b[39m\u001b[31m.\u001b[39m\u001b[31m4\u001b[39m     12.1\n"
     ]
    },
    {
     "name": "stderr",
     "output_type": "stream",
     "text": [
      "Warning message in regularize.values(x, y, ties, missing(ties), na.rm = na.rm):\n",
      "\"collapsing to unique 'x' values\"\n",
      "Warning message in regularize.values(x, y, ties, missing(ties), na.rm = na.rm):\n",
      "\"collapsing to unique 'x' values\"\n",
      "Warning message:\n",
      "\"Please be cautious in reporting a p-value of 0. This result is an approximation based on the number of `reps` chosen in the `generate()` step. See `?get_p_value()` for more information.\"\n"
     ]
    },
    {
     "data": {
      "text/html": [
       "<table class=\"dataframe\">\n",
       "<caption>A tibble: 1 × 1</caption>\n",
       "<thead>\n",
       "\t<tr><th scope=col>p_value</th></tr>\n",
       "\t<tr><th scope=col>&lt;dbl&gt;</th></tr>\n",
       "</thead>\n",
       "<tbody>\n",
       "\t<tr><td>0</td></tr>\n",
       "</tbody>\n",
       "</table>\n"
      ],
      "text/latex": [
       "A tibble: 1 × 1\n",
       "\\begin{tabular}{l}\n",
       " p\\_value\\\\\n",
       " <dbl>\\\\\n",
       "\\hline\n",
       "\t 0\\\\\n",
       "\\end{tabular}\n"
      ],
      "text/markdown": [
       "\n",
       "A tibble: 1 × 1\n",
       "\n",
       "| p_value &lt;dbl&gt; |\n",
       "|---|\n",
       "| 0 |\n",
       "\n"
      ],
      "text/plain": [
       "  p_value\n",
       "1 0      "
      ]
     },
     "metadata": {},
     "output_type": "display_data"
    },
    {
     "data": {
      "image/png": "[encoded data removed]",
      "text/plain": [
       "plot without title"
      ]
     },
     "metadata": {
      "image/png": {
       "height": 420,
       "width": 420
      }
     },
     "output_type": "display_data"
    }
   ],
   "source": [
    "level <- 0.9999\n",
    "\n",
    "null_distribution_mean <- dataset %>%\n",
    "  specify(formula = area~category) %>% \n",
    "  hypothesize(null = \"independence\") %>% \n",
    "  generate(reps = 2000, type = \"permute\") %>% \n",
    "  calculate(stat = \"diff in means\", order = order)\n",
    "\n",
    "percentile_ci_null <- null_distribution_mean\t%>%\n",
    "\tget_ci(type = \"percentile\", level =level)\n",
    "\n",
    "print(percentile_ci_null)\n",
    "\n",
    "obs_diff_means <- dataset %>% \n",
    "  specify(formula = area~category) %>% \n",
    "  calculate(stat = \"diff in means\", order = order)\n",
    "\n",
    "null_distribution_mean\t%>%\tvisualize() +\n",
    "\tshade_confidence_interval(endpoints = percentile_ci_null) +\n",
    "  shade_p_value(obs_stat = obs_diff_means, direction = \"both\")\n",
    "\n",
    "dataset %>% \n",
    "  get_p_value(obs_stat = obs_diff_means, direction = \"both\")"
   ]
  }
 ],
 "metadata": {
  "kernelspec": {
   "display_name": "R",
   "language": "R",
   "name": "ir"
  },
  "language_info": {
   "codemirror_mode": "r",
   "file_extension": ".r",
   "mimetype": "text/x-r-source",
   "name": "R",
   "pygments_lexer": "r",
   "version": "4.1.3"
  },
  "orig_nbformat": 4,
  "vscode": {
   "interpreter": {
    "hash": "a7fed2fbb76f3d7e7cdd46b39199e29cb3917ed00bce052475a7f19ab80c7b2a"
   }
  }
 },
 "nbformat": 4,
 "nbformat_minor": 2
}
