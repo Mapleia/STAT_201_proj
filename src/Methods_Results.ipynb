{
 "cells": [
  {
   "cell_type": "markdown",
   "metadata": {},
   "source": [
    "# Methods and Results"
   ]
  },
  {
   "cell_type": "code",
   "execution_count": 2,
   "metadata": {
    "vscode": {
     "languageId": "r"
    }
   },
   "outputs": [
    {
     "name": "stderr",
     "output_type": "stream",
     "text": [
      "Loading required package: ggplot2\n",
      "\n",
      "Registered S3 method overwritten by 'GGally':\n",
      "  method from   \n",
      "  +.gg   ggplot2\n",
      "\n",
      "-- \u001b[1mAttaching packages\u001b[22m --------------------------------------------------------------------------------------------- tidyverse 1.3.2 --\n",
      "\u001b[32mv\u001b[39m \u001b[34mtibble \u001b[39m 3.1.8      \u001b[32mv\u001b[39m \u001b[34mdplyr  \u001b[39m 1.0.10\n",
      "\u001b[32mv\u001b[39m \u001b[34mtidyr  \u001b[39m 1.2.1      \u001b[32mv\u001b[39m \u001b[34mstringr\u001b[39m 1.4.1 \n",
      "\u001b[32mv\u001b[39m \u001b[34mreadr  \u001b[39m 2.1.3      \u001b[32mv\u001b[39m \u001b[34mforcats\u001b[39m 0.5.2 \n",
      "\u001b[32mv\u001b[39m \u001b[34mpurrr  \u001b[39m 0.3.5      \n",
      "-- \u001b[1mConflicts\u001b[22m ------------------------------------------------------------------------------------------------ tidyverse_conflicts() --\n",
      "\u001b[31mx\u001b[39m \u001b[34mdplyr\u001b[39m::\u001b[32mfilter()\u001b[39m masks \u001b[34mstats\u001b[39m::filter()\n",
      "\u001b[31mx\u001b[39m \u001b[34mdplyr\u001b[39m::\u001b[32mlag()\u001b[39m    masks \u001b[34mstats\u001b[39m::lag()\n"
     ]
    }
   ],
   "source": [
    "# import the libraries used for analysis\n",
    "\n",
    "library(GGally)\n",
    "library(tidyverse)\n",
    "library(infer)\n",
    "library(cowplot)\n",
    "library(broom)"
   ]
  },
  {
   "cell_type": "code",
   "execution_count": 31,
   "metadata": {
    "vscode": {
     "languageId": "r"
    }
   },
   "outputs": [
    {
     "name": "stderr",
     "output_type": "stream",
     "text": [
      "\u001b[1mRows: \u001b[22m\u001b[34m517\u001b[39m \u001b[1mColumns: \u001b[22m\u001b[34m13\u001b[39m\n",
      "\u001b[36m--\u001b[39m \u001b[1mColumn specification\u001b[22m \u001b[36m-------------\u001b[39m\n",
      "\u001b[1mDelimiter:\u001b[22m \",\"\n",
      "\u001b[31mchr\u001b[39m  (2): month, day\n",
      "\u001b[32mdbl\u001b[39m (11): X, Y, FFMC, DMC, DC, ISI, temp, RH, wind, rain, area\n",
      "\n",
      "\u001b[36mi\u001b[39m Use `spec()` to retrieve the full column specification for this data.\n",
      "\u001b[36mi\u001b[39m Specify the column types or set `show_col_types = FALSE` to quiet this message.\n"
     ]
    },
    {
     "data": {
      "text/html": [
       "<table class=\"dataframe\">\n",
       "<caption>A tibble: 6 × 4</caption>\n",
       "<thead>\n",
       "\t<tr><th scope=col>wind</th><th scope=col>area</th><th scope=col>category</th><th scope=col>area_log10</th></tr>\n",
       "\t<tr><th scope=col>&lt;dbl&gt;</th><th scope=col>&lt;dbl&gt;</th><th scope=col>&lt;fct&gt;</th><th scope=col>&lt;dbl&gt;</th></tr>\n",
       "</thead>\n",
       "<tbody>\n",
       "\t<tr><td>6.7</td><td>0</td><td>low </td><td>0</td></tr>\n",
       "\t<tr><td>0.9</td><td>0</td><td>high</td><td>0</td></tr>\n",
       "\t<tr><td>1.3</td><td>0</td><td>high</td><td>0</td></tr>\n",
       "\t<tr><td>4.0</td><td>0</td><td>high</td><td>0</td></tr>\n",
       "\t<tr><td>1.8</td><td>0</td><td>high</td><td>0</td></tr>\n",
       "\t<tr><td>5.4</td><td>0</td><td>low </td><td>0</td></tr>\n",
       "</tbody>\n",
       "</table>\n"
      ],
      "text/latex": [
       "A tibble: 6 × 4\n",
       "\\begin{tabular}{llll}\n",
       " wind & area & category & area\\_log10\\\\\n",
       " <dbl> & <dbl> & <fct> & <dbl>\\\\\n",
       "\\hline\n",
       "\t 6.7 & 0 & low  & 0\\\\\n",
       "\t 0.9 & 0 & high & 0\\\\\n",
       "\t 1.3 & 0 & high & 0\\\\\n",
       "\t 4.0 & 0 & high & 0\\\\\n",
       "\t 1.8 & 0 & high & 0\\\\\n",
       "\t 5.4 & 0 & low  & 0\\\\\n",
       "\\end{tabular}\n"
      ],
      "text/markdown": [
       "\n",
       "A tibble: 6 × 4\n",
       "\n",
       "| wind &lt;dbl&gt; | area &lt;dbl&gt; | category &lt;fct&gt; | area_log10 &lt;dbl&gt; |\n",
       "|---|---|---|---|\n",
       "| 6.7 | 0 | low  | 0 |\n",
       "| 0.9 | 0 | high | 0 |\n",
       "| 1.3 | 0 | high | 0 |\n",
       "| 4.0 | 0 | high | 0 |\n",
       "| 1.8 | 0 | high | 0 |\n",
       "| 5.4 | 0 | low  | 0 |\n",
       "\n"
      ],
      "text/plain": [
       "  wind area category area_log10\n",
       "1 6.7  0    low      0         \n",
       "2 0.9  0    high     0         \n",
       "3 1.3  0    high     0         \n",
       "4 4.0  0    high     0         \n",
       "5 1.8  0    high     0         \n",
       "6 5.4  0    low      0         "
      ]
     },
     "metadata": {},
     "output_type": "display_data"
    }
   ],
   "source": [
    "order <- c(\"high\", \"low\")\n",
    "\n",
    "dataset <- read_csv('../data/forestfires.csv') %>%\n",
    "  select(wind, area) %>%\n",
    "  mutate(wind = as.numeric(wind), area = as.numeric(area)) %>% #Wrangling data and selecting columns to be used in prediction\n",
    "  filter(!is.na(wind) | !is.na(area)) %>%\n",
    "  mutate(\n",
    "    category=cut(wind, breaks=quantile(wind,c(0,1/2,1)), labels=order,include.lowest = TRUE),\n",
    "    area_log10 = log10(1+ area)\n",
    "  )\n",
    "\n",
    "head(dataset)"
   ]
  },
  {
   "cell_type": "code",
   "execution_count": 28,
   "metadata": {
    "vscode": {
     "languageId": "r"
    }
   },
   "outputs": [
    {
     "name": "stdout",
     "output_type": "stream",
     "text": [
      "\u001b[90m# A tibble: 1 x 2\u001b[39m\n",
      "  lower_ci upper_ci\n",
      "     \u001b[3m\u001b[90m<dbl>\u001b[39m\u001b[23m    \u001b[3m\u001b[90m<dbl>\u001b[39m\u001b[23m\n",
      "\u001b[90m1\u001b[39m    -\u001b[31m11\u001b[39m\u001b[31m.\u001b[39m\u001b[31m6\u001b[39m     10.6\n"
     ]
    },
    {
     "data": {
      "image/png": "[encoded data removed]",
      "text/plain": [
       "plot without title"
      ]
     },
     "metadata": {
      "image/png": {
       "height": 420,
       "width": 420
      }
     },
     "output_type": "display_data"
    }
   ],
   "source": [
    "# set the seed so that the randomization is consistent\n",
    "set.seed(1234)\n",
    "\n",
    "# bootstrap with 2000 replicate\n",
    "bootstrap_dist_data_infer <- dataset %>%\n",
    "    specify(formula = area~category) %>%\n",
    "\tgenerate(type = \"bootstrap\", reps = 2000) %>%\n",
    "\tcalculate(stat = \"diff in means\", order = order) \n",
    "\n",
    "percentile_ci <- bootstrap_dist_data_infer\t%>%\n",
    "\tget_ci(type = \"percentile\", level = 0.95)\n",
    "print(percentile_ci)\n",
    "\n",
    "# confidence interval of the difference in means\n",
    "bootstrap_dist_data_infer\t%>%\tvisualize() +\n",
    "\tshade_confidence_interval(endpoints = percentile_ci)"
   ]
  },
  {
   "cell_type": "code",
   "execution_count": 30,
   "metadata": {
    "vscode": {
     "languageId": "r"
    }
   },
   "outputs": [
    {
     "name": "stderr",
     "output_type": "stream",
     "text": [
      "Warning message:\n",
      "\"Parameter values are not specified when testing that two variables are independent.\"\n"
     ]
    },
    {
     "name": "stdout",
     "output_type": "stream",
     "text": [
      "\u001b[90m# A tibble: 1 x 2\u001b[39m\n",
      "  lower_ci upper_ci\n",
      "     \u001b[3m\u001b[90m<dbl>\u001b[39m\u001b[23m    \u001b[3m\u001b[90m<dbl>\u001b[39m\u001b[23m\n",
      "\u001b[90m1\u001b[39m   -\u001b[31m0\u001b[39m\u001b[31m.\u001b[39m\u001b[31m107\u001b[39m    0.106\n"
     ]
    },
    {
     "data": {
      "text/html": [
       "<table class=\"dataframe\">\n",
       "<caption>A tibble: 1 × 1</caption>\n",
       "<thead>\n",
       "\t<tr><th scope=col>p_value</th></tr>\n",
       "\t<tr><th scope=col>&lt;dbl&gt;</th></tr>\n",
       "</thead>\n",
       "<tbody>\n",
       "\t<tr><td>0.567</td></tr>\n",
       "</tbody>\n",
       "</table>\n"
      ],
      "text/latex": [
       "A tibble: 1 × 1\n",
       "\\begin{tabular}{l}\n",
       " p\\_value\\\\\n",
       " <dbl>\\\\\n",
       "\\hline\n",
       "\t 0.567\\\\\n",
       "\\end{tabular}\n"
      ],
      "text/markdown": [
       "\n",
       "A tibble: 1 × 1\n",
       "\n",
       "| p_value &lt;dbl&gt; |\n",
       "|---|\n",
       "| 0.567 |\n",
       "\n"
      ],
      "text/plain": [
       "  p_value\n",
       "1 0.567  "
      ]
     },
     "metadata": {},
     "output_type": "display_data"
    },
    {
     "data": {
      "image/png": "[encoded data removed]",
      "text/plain": [
       "plot without title"
      ]
     },
     "metadata": {
      "image/png": {
       "height": 420,
       "width": 420
      }
     },
     "output_type": "display_data"
    }
   ],
   "source": [
    "level <- 0.95\n",
    "\n",
    "# null distribution (diff of means is 0) \n",
    "# of the difference in means\n",
    "null_distribution_mean <- dataset %>%\n",
    "  specify(formula = area_log10~category) %>% \n",
    "  hypothesize(null = \"independence\", mu = 0) %>% \n",
    "  generate(reps = 2000, type = \"permute\") %>% \n",
    "  calculate(stat = \"diff in means\", order = order)\n",
    "\n",
    "# the confidence interval of the null distribution\n",
    "percentile_ci_null <- null_distribution_mean %>%\n",
    "  get_ci(type = \"percentile\", level =level)\n",
    "\n",
    "print(percentile_ci_null)\n",
    "\n",
    "# retrieve the difference in means found in the dataset\n",
    "obs_diff_means <- dataset %>% \n",
    "  specify(formula = area_log10~category) %>% \n",
    "  calculate(stat = \"diff in means\", order = order)\n",
    "\n",
    "# visualize into histogram and show where the p-value lies\n",
    "null_distribution_mean %>% visualize() +\n",
    "    # shade_confidence_interval(endpoints = percentile_ci_null) +\n",
    "    shade_p_value(obs_stat = obs_diff_means, direction = \"both\")\n",
    "\n",
    "# retrieve the p-value calculated\n",
    "null_distribution_mean %>% \n",
    "  get_p_value(obs_stat = obs_diff_means, direction = \"both\")"
   ]
  },
  {
   "cell_type": "code",
   "execution_count": 62,
   "metadata": {},
   "outputs": [
    {
     "data": {
      "text/html": [
       "0.579965822911252"
      ],
      "text/latex": [
       "0.579965822911252"
      ],
      "text/markdown": [
       "0.579965822911252"
      ],
      "text/plain": [
       "[1] 0.5799658"
      ]
     },
     "metadata": {},
     "output_type": "display_data"
    }
   ],
   "source": [
    "# split the category\n",
    "high_cat <- filter(dataset, category == 'high')\n",
    "low_cat <- filter(dataset, category == 'low')\n",
    "\n",
    "# find the variance across both categories\n",
    "var1 <- var(high_cat$area_log10)\n",
    "var2 <- var(low_cat$area_log10)\n",
    "\n",
    "# count the rows\n",
    "n1 <- high_cat %>% nrow()\n",
    "n2 <- low_cat %>% nrow()\n",
    "\n",
    "# find the variances between the categories\n",
    "var1n1 <- (var1/n1)\n",
    "var2n2 <- (var2/n2)\n",
    "\n",
    "# find the df when the variances are very difference\n",
    "df <- (var1n1/var2n2)^2 / ((1/(n1-1))*var1n1^2 + (1/(n2-1))*var2n2^2)\n",
    "\n",
    "# calculate the t-statistic\n",
    "t_stat <- (obs_diff_means) / sqrt((var1/n1) + (var2/n2))\n",
    "\n",
    "# compare to the null distribution, find the p-value\n",
    "# multiply by 2 for two-tailed test\n",
    "pt(t_stat$stat, df)*2"
   ]
  },
  {
   "cell_type": "code",
   "execution_count": 69,
   "metadata": {},
   "outputs": [
    {
     "data": {
      "text/html": [
       "<table class=\"dataframe\">\n",
       "<caption>A tibble: 1 × 10</caption>\n",
       "<thead>\n",
       "\t<tr><th scope=col>estimate</th><th scope=col>estimate1</th><th scope=col>estimate2</th><th scope=col>statistic</th><th scope=col>p.value</th><th scope=col>parameter</th><th scope=col>conf.low</th><th scope=col>conf.high</th><th scope=col>method</th><th scope=col>alternative</th></tr>\n",
       "\t<tr><th scope=col>&lt;dbl&gt;</th><th scope=col>&lt;dbl&gt;</th><th scope=col>&lt;dbl&gt;</th><th scope=col>&lt;dbl&gt;</th><th scope=col>&lt;dbl&gt;</th><th scope=col>&lt;dbl&gt;</th><th scope=col>&lt;dbl&gt;</th><th scope=col>&lt;dbl&gt;</th><th scope=col>&lt;chr&gt;</th><th scope=col>&lt;chr&gt;</th></tr>\n",
       "</thead>\n",
       "<tbody>\n",
       "\t<tr><td>-0.03014077</td><td>0.4698614</td><td>0.5000022</td><td>-0.5534347</td><td>0.5802371</td><td>455.9388</td><td>-0.1371671</td><td>0.07688552</td><td>Welch Two Sample t-test</td><td>two.sided</td></tr>\n",
       "</tbody>\n",
       "</table>\n"
      ],
      "text/latex": [
       "A tibble: 1 × 10\n",
       "\\begin{tabular}{llllllllll}\n",
       " estimate & estimate1 & estimate2 & statistic & p.value & parameter & conf.low & conf.high & method & alternative\\\\\n",
       " <dbl> & <dbl> & <dbl> & <dbl> & <dbl> & <dbl> & <dbl> & <dbl> & <chr> & <chr>\\\\\n",
       "\\hline\n",
       "\t -0.03014077 & 0.4698614 & 0.5000022 & -0.5534347 & 0.5802371 & 455.9388 & -0.1371671 & 0.07688552 & Welch Two Sample t-test & two.sided\\\\\n",
       "\\end{tabular}\n"
      ],
      "text/markdown": [
       "\n",
       "A tibble: 1 × 10\n",
       "\n",
       "| estimate &lt;dbl&gt; | estimate1 &lt;dbl&gt; | estimate2 &lt;dbl&gt; | statistic &lt;dbl&gt; | p.value &lt;dbl&gt; | parameter &lt;dbl&gt; | conf.low &lt;dbl&gt; | conf.high &lt;dbl&gt; | method &lt;chr&gt; | alternative &lt;chr&gt; |\n",
       "|---|---|---|---|---|---|---|---|---|---|\n",
       "| -0.03014077 | 0.4698614 | 0.5000022 | -0.5534347 | 0.5802371 | 455.9388 | -0.1371671 | 0.07688552 | Welch Two Sample t-test | two.sided |\n",
       "\n"
      ],
      "text/plain": [
       "  estimate    estimate1 estimate2 statistic  p.value   parameter conf.low  \n",
       "1 -0.03014077 0.4698614 0.5000022 -0.5534347 0.5802371 455.9388  -0.1371671\n",
       "  conf.high  method                  alternative\n",
       "1 0.07688552 Welch Two Sample t-test two.sided  "
      ]
     },
     "metadata": {},
     "output_type": "display_data"
    }
   ],
   "source": [
    "# doing the t.test (two sample) with the t.test distribution\n",
    "\n",
    "t.test(high_cat$area_log10, \n",
    "       low_cat$area_log10, \n",
    "       alternative = 'two.sided', \n",
    "       mu = 0, \n",
    "       paired = FALSE, \n",
    "       var.equal = FALSE) %>% tidy()"
   ]
  }
 ],
 "metadata": {
  "kernelspec": {
   "display_name": "R",
   "language": "R",
   "name": "ir"
  },
  "language_info": {
   "codemirror_mode": "r",
   "file_extension": ".r",
   "mimetype": "text/x-r-source",
   "name": "R",
   "pygments_lexer": "r",
   "version": "4.1.3"
  },
  "vscode": {
   "interpreter": {
    "hash": "1a6aa2ee3c4f80a55de00fd6239e357902e74cf1f897ed06dae743e7e1e25c38"
   }
  }
 },
 "nbformat": 4,
 "nbformat_minor": 2
}
