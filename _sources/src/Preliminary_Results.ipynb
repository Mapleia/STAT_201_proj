{
 "cells": [
  {
   "cell_type": "markdown",
   "id": "d53904d8",
   "metadata": {},
   "source": [
    "# Preliminary Results\n"
   ]
  },
  {
   "cell_type": "code",
   "execution_count": 2,
   "id": "40b3908b",
   "metadata": {
    "vscode": {
     "languageId": "r"
    }
   },
   "outputs": [],
   "source": [
    "# Load the necessary packages.\n",
    "library(tidyverse)\n",
    "library(infer)\n",
    "library(cowplot)\n",
    "library(broom)"
   ]
  },
  {
   "cell_type": "code",
   "execution_count": 5,
   "id": "025acc4e",
   "metadata": {
    "vscode": {
     "languageId": "r"
    }
   },
   "outputs": [
    {
     "name": "stderr",
     "output_type": "stream",
     "text": [
      "\u001b[1mRows: \u001b[22m\u001b[34m517\u001b[39m \u001b[1mColumns: \u001b[22m\u001b[34m13\u001b[39m\n",
      "\u001b[36m--\u001b[39m \u001b[1mColumn specification\u001b[22m \u001b[36m--------------------------------------------------------\u001b[39m\n",
      "\u001b[1mDelimiter:\u001b[22m \",\"\n",
      "\u001b[31mchr\u001b[39m  (2): month, day\n",
      "\u001b[32mdbl\u001b[39m (11): X, Y, FFMC, DMC, DC, ISI, temp, RH, wind, rain, area\n",
      "\n",
      "\u001b[36mi\u001b[39m Use `spec()` to retrieve the full column specification for this data.\n",
      "\u001b[36mi\u001b[39m Specify the column types or set `show_col_types = FALSE` to quiet this message.\n"
     ]
    },
    {
     "data": {
      "text/html": [
       "<table class=\"dataframe\">\n",
       "<caption>A tibble: 6 × 3</caption>\n",
       "<thead>\n",
       "\t<tr><th scope=col>month</th><th scope=col>wind</th><th scope=col>area</th></tr>\n",
       "\t<tr><th scope=col>&lt;fct&gt;</th><th scope=col>&lt;dbl&gt;</th><th scope=col>&lt;dbl&gt;</th></tr>\n",
       "</thead>\n",
       "<tbody>\n",
       "\t<tr><td>mar</td><td>6.7</td><td>0</td></tr>\n",
       "\t<tr><td>oct</td><td>0.9</td><td>0</td></tr>\n",
       "\t<tr><td>oct</td><td>1.3</td><td>0</td></tr>\n",
       "\t<tr><td>mar</td><td>4.0</td><td>0</td></tr>\n",
       "\t<tr><td>mar</td><td>1.8</td><td>0</td></tr>\n",
       "\t<tr><td>aug</td><td>5.4</td><td>0</td></tr>\n",
       "</tbody>\n",
       "</table>\n"
      ],
      "text/latex": [
       "A tibble: 6 × 3\n",
       "\\begin{tabular}{lll}\n",
       " month & wind & area\\\\\n",
       " <fct> & <dbl> & <dbl>\\\\\n",
       "\\hline\n",
       "\t mar & 6.7 & 0\\\\\n",
       "\t oct & 0.9 & 0\\\\\n",
       "\t oct & 1.3 & 0\\\\\n",
       "\t mar & 4.0 & 0\\\\\n",
       "\t mar & 1.8 & 0\\\\\n",
       "\t aug & 5.4 & 0\\\\\n",
       "\\end{tabular}\n"
      ],
      "text/markdown": [
       "\n",
       "A tibble: 6 × 3\n",
       "\n",
       "| month &lt;fct&gt; | wind &lt;dbl&gt; | area &lt;dbl&gt; |\n",
       "|---|---|---|\n",
       "| mar | 6.7 | 0 |\n",
       "| oct | 0.9 | 0 |\n",
       "| oct | 1.3 | 0 |\n",
       "| mar | 4.0 | 0 |\n",
       "| mar | 1.8 | 0 |\n",
       "| aug | 5.4 | 0 |\n",
       "\n"
      ],
      "text/plain": [
       "  month wind area\n",
       "1 mar   6.7  0   \n",
       "2 oct   0.9  0   \n",
       "3 oct   1.3  0   \n",
       "4 mar   4.0  0   \n",
       "5 mar   1.8  0   \n",
       "6 aug   5.4  0   "
      ]
     },
     "metadata": {},
     "output_type": "display_data"
    }
   ],
   "source": [
    "#Setting the seed.\n",
    "set.seed(1234)\n",
    "\n",
    "#Dowloading the data from the web and reading it in R.\n",
    "url <- \"https://archive.ics.uci.edu/ml/machine-learning-databases/forest-fires/forestfires.csv\"\n",
    "download.file (url,\"../data/forestfires.csv\" )\n",
    "\n",
    "forest_fires_data <-read_delim(\"../data/forestfires.csv\", skip=0, delim=\",\") %>%\n",
    "    select(month, wind, area) %>%\n",
    "    mutate(month = as.factor(month), wind = as.numeric(wind), area = as.numeric(area)) %>% #Wrangling data and selecting columns to be used in prediction\n",
    "    filter(!is.na(month) | !is.na(wind) | !is.na(area))\n",
    "    \n",
    "head(forest_fires_data)\n"
   ]
  },
  {
   "cell_type": "markdown",
   "id": "7759f887",
   "metadata": {},
   "source": [
    "##### Table 1: Top 6 Rows of Forest Fires Data"
   ]
  },
  {
   "cell_type": "code",
   "execution_count": null,
   "id": "182c05a6",
   "metadata": {
    "vscode": {
     "languageId": "r"
    }
   },
   "outputs": [],
   "source": [
    "#Visualizing the summary of the predictor variables.\n",
    "print(summary(forest_fires_data))"
   ]
  },
  {
   "cell_type": "markdown",
   "id": "6882a4f4",
   "metadata": {},
   "source": [
    "##### Table 2: Summary Statistics of Forest Fires Data"
   ]
  },
  {
   "cell_type": "code",
   "execution_count": null,
   "id": "76083600",
   "metadata": {
    "vscode": {
     "languageId": "r"
    }
   },
   "outputs": [],
   "source": [
    "options(repr.plot.width = 6, repr.plot.height = 4)\n",
    "\n",
    "#Visualizing the distribution of each variable\n",
    "plot_1 <- forest_fires_data %>%\n",
    "    ggplot(aes(x = wind, fill = month))+\n",
    "    geom_bar(binwidth = 10) + \n",
    "    labs(x=\"Wind Speed (km/h)\", y=\"Count\")+\n",
    "    ggtitle(\"Figure 1: Wind Speed Distribution\") +\n",
    "    scale_fill_discrete(name = \"Month of Fires\")+\n",
    "    theme(text = element_text(size = 12)) \n",
    "plot_1\n",
    "\n",
    "plot_2 <- forest_fires_data %>%\n",
    "    ggplot(aes(x =area, fill = month))+\n",
    "    geom_histogram(binwidth = 10) + \n",
    "    labs(x=\"Area Burned (ha)\", y=\"Count\")+\n",
    "    ggtitle(\"Figure 2: Area Burned Distribution\") +\n",
    "    scale_fill_discrete(name = \"Month of Fires\")+\n",
    "    theme(text = element_text(size = 12))\n",
    "plot_2\n",
    "\n"
   ]
  }
 ],
 "metadata": {
  "kernelspec": {
   "display_name": "R",
   "language": "R",
   "name": "ir"
  },
  "language_info": {
   "codemirror_mode": "r",
   "file_extension": ".r",
   "mimetype": "text/x-r-source",
   "name": "R",
   "pygments_lexer": "r",
   "version": "4.1.3"
  }
 },
 "nbformat": 4,
 "nbformat_minor": 5
}
