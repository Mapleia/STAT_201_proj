{
 "cells": [
  {
   "cell_type": "markdown",
   "id": "d53904d8",
   "metadata": {},
   "source": [
    "# Preliminary Results\n"
   ]
  },
  {
   "cell_type": "code",
   "execution_count": null,
   "id": "40b3908b",
   "metadata": {
    "vscode": {
     "languageId": "r"
    }
   },
   "outputs": [],
   "source": [
    "# Load the necessary packages.\n",
    "library(GGally)\n",
    "library(tidyverse)\n",
    "library(infer)\n",
    "library(cowplot)\n",
    "library(broom)"
   ]
  },
  {
   "cell_type": "markdown",
   "id": "9b558952",
   "metadata": {},
   "source": [
    "## Importing Data"
   ]
  },
  {
   "cell_type": "markdown",
   "id": "c28930cc",
   "metadata": {},
   "source": [
    "### Table 1: Top 6 Rows of Forest Fires Data"
   ]
  },
  {
   "cell_type": "code",
   "execution_count": null,
   "id": "025acc4e",
   "metadata": {
    "vscode": {
     "languageId": "r"
    }
   },
   "outputs": [],
   "source": [
    "#Setting the seed.\n",
    "set.seed(1234)\n",
    "\n",
    "#Dowloading the data from the web and reading it in R.\n",
    "url <- \"https://archive.ics.uci.edu/ml/machine-learning-databases/forest-fires/forestfires.csv\"\n",
    "download.file (url,\"../data/forestfires.csv\" )\n",
    "\n",
    "forest_fires_data <-read_delim(\"../data/forestfires.csv\", skip=0, delim=\",\") %>%\n",
    "    select(wind, area) %>%\n",
    "    mutate(wind = as.numeric(wind), area = as.numeric(area)) %>% #Wrangling data and selecting columns to be used in prediction\n",
    "    filter(!is.na(wind) | !is.na(area))\n",
    "    \n",
    "head(forest_fires_data)"
   ]
  },
  {
   "cell_type": "markdown",
   "id": "1ffe5525",
   "metadata": {},
   "source": [
    "## Wind Speed Distributions"
   ]
  },
  {
   "cell_type": "code",
   "execution_count": null,
   "id": "e1fd5505",
   "metadata": {
    "vscode": {
     "languageId": "r"
    }
   },
   "outputs": [],
   "source": [
    "options(repr.plot.width = 6, repr.plot.height = 4)\n",
    "wind_speed_plot <- forest_fires_data %>%\n",
    "    ggplot(aes(x = wind))+\n",
    "    geom_histogram(binwidth = 0.8) + \n",
    "    labs(x=\"Wind Speed (km/h)\", y=\"Count\")+\n",
    "    ggtitle(\"Figure 1: Wind Speed Distribution\") +\n",
    "    scale_fill_discrete(name = \"Month of Fires\")+\n",
    "    theme(text = element_text(size = 12)) \n",
    "wind_speed_plot"
   ]
  },
  {
   "cell_type": "markdown",
   "id": "f1c34dd6",
   "metadata": {},
   "source": [
    "Based on figure 1, wind speed is almost a bimodal distribution (without much modification), we can safely assume that we can categorize wind speed into \"high\" and \"low\"."
   ]
  },
  {
   "cell_type": "code",
   "execution_count": null,
   "id": "ae27de60",
   "metadata": {
    "vscode": {
     "languageId": "r"
    }
   },
   "outputs": [],
   "source": [
    "xs <- quantile(forest_fires_data$wind,c(0,1/2,1))\n",
    "\n",
    "# add category column\n",
    "forest_fires_data <- forest_fires_data %>%\n",
    "    mutate(category=cut(wind, breaks=xs, labels=c(\"low\",\"high\"),include.lowest = TRUE))\n",
    "\n",
    "wind_plot_categorized <- forest_fires_data %>%\n",
    "    ggplot(aes(x =wind, fill = category))+\n",
    "    geom_histogram(binwidth = 0.8) + \n",
    "    labs(x=\"Wind Speed\", y=\"Count\")+\n",
    "    ggtitle(\"Figure 2: Wind Speed Distribution\") +\n",
    "    scale_fill_discrete(name = \"Wind Speed Category\") +\n",
    "    theme(text = element_text(size = 12)) + \n",
    "    geom_vline(aes(xintercept = quantile(wind)[3]))\n",
    "\n",
    "box_plot <- forest_fires_data %>%\n",
    "  ggplot(aes(x = category, y = wind, fill = category)) +\n",
    "  geom_boxplot() +\n",
    "  labs(x=\"Wind Speed Category\", y=\"Wind Speed\") +\n",
    "  ggtitle(\"Figure 3: Boxplot of Wind Speed by Category\") \n",
    "\n",
    "options(repr.plot.width = 12, repr.plot.height = 4)\n",
    "plot_grid(wind_plot_categorized, box_plot)"
   ]
  },
  {
   "cell_type": "markdown",
   "id": "b47cee6f",
   "metadata": {},
   "source": [
    "Based on Figure 3, there is a considerable difference in wind speed. A confidence interval would be useful to see if their ranges overlap in a interesting manner. We could also have a confidence interval around the difference of the mean."
   ]
  },
  {
   "cell_type": "markdown",
   "id": "7759f887",
   "metadata": {},
   "source": [
    "## Area Burned Distributions"
   ]
  },
  {
   "cell_type": "code",
   "execution_count": null,
   "id": "76083600",
   "metadata": {
    "vscode": {
     "languageId": "r"
    }
   },
   "outputs": [],
   "source": [
    "options(repr.plot.width = 6, repr.plot.height = 4)\n",
    "\n",
    "#Visualizing the distribution of each variable\n",
    "area_burned_plot <- forest_fires_data %>%\n",
    "    ggplot(aes(x =area))+\n",
    "    geom_histogram(binwidth = 10) + \n",
    "    labs(x=\"Area Burned (ha)\", y=\"Count\")+\n",
    "    ggtitle(\"Figure 4: Area Burned Distribution\") +\n",
    "    scale_fill_discrete(name = \"Month of Fires\")+\n",
    "    theme(text = element_text(size = 12))\n",
    "area_burned_plot   "
   ]
  },
  {
   "cell_type": "markdown",
   "id": "7351feab",
   "metadata": {},
   "source": [
    "Figure 4 shows that it make sense to scale the data in a logrithmic scale.\n",
    "> See https://www.programmingr.com/tutorial/log-in-r/."
   ]
  },
  {
   "cell_type": "code",
   "execution_count": null,
   "id": "84fd80de",
   "metadata": {
    "vscode": {
     "languageId": "r"
    }
   },
   "outputs": [],
   "source": [
    "forest_fires_data <- forest_fires_data %>%\n",
    "    mutate(area_log10 = log10(1+ area))"
   ]
  },
  {
   "cell_type": "code",
   "execution_count": null,
   "id": "77519315",
   "metadata": {
    "vscode": {
     "languageId": "r"
    }
   },
   "outputs": [],
   "source": [
    "options(repr.plot.width = 6, repr.plot.height = 4)\n",
    "\n",
    "area_burned_scaled_plot <- forest_fires_data %>%\n",
    "    ggplot(aes(x =area_log10))+\n",
    "    geom_histogram(binwidth = 0.5) + \n",
    "    labs(x=\"Area Burned (ha) [log 10 scaled]\", y=\"Count\")+\n",
    "    ggtitle(\"Figure 5: Area Burned Distribution (scaled)\") +\n",
    "    scale_fill_discrete(name = \"Month of Fires\") +\n",
    "    theme(text = element_text(size = 12))\n",
    "\n",
    "box_plot_burned <- forest_fires_data %>%\n",
    "  ggplot(aes(x = category, y = area_log10, fill = category)) +\n",
    "  geom_boxplot() +\n",
    "  labs(x=\"Scaled Area vs Wind Speed Category\", y=\"Scaled Area Burned (ha)\")+\n",
    "  ggtitle(\"Figure 6: Boxplot of Area Burned by Category\")\n",
    "\n",
    "options(repr.plot.width = 12, repr.plot.height = 4)\n",
    "plot_grid(area_burned_scaled_plot, box_plot_burned)"
   ]
  },
  {
   "cell_type": "markdown",
   "id": "ecee1c84",
   "metadata": {},
   "source": [
    "##### Table 2: Summary Statistics of Forest Fires Data"
   ]
  },
  {
   "cell_type": "code",
   "execution_count": null,
   "id": "eacb52a2",
   "metadata": {
    "vscode": {
     "languageId": "r"
    }
   },
   "outputs": [],
   "source": [
    "forest_fires_data %>%\n",
    "group_by(category) %>%\n",
    "filter(category == \"low\") %>%\n",
    "summary()\n",
    "\n",
    "forest_fires_data %>%\n",
    "group_by(category) %>%\n",
    "filter(category == \"high\") %>%\n",
    "summary()"
   ]
  }
 ],
 "metadata": {
  "kernelspec": {
   "display_name": "R",
   "language": "R",
   "name": "ir"
  },
  "language_info": {
   "codemirror_mode": "r",
   "file_extension": ".r",
   "mimetype": "text/x-r-source",
   "name": "R",
   "pygments_lexer": "r",
   "version": "4.1.3"
  },
  "vscode": {
   "interpreter": {
    "hash": "caa79e79b13b4a24ed1e40b8fd425b38aacc1b8fb3707c3bea2d025878df32c5"
   }
  }
 },
 "nbformat": 4,
 "nbformat_minor": 5
}
