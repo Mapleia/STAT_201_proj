{
 "cells": [
  {
   "cell_type": "markdown",
   "metadata": {},
   "source": [
    "# Method Plan"
   ]
  },
  {
   "cell_type": "markdown",
   "metadata": {},
   "source": [
    "The methods used to generate this report can be considered trustworthy based on:\n",
    "- The data is coming from a peer reviewed research that is publicly available.\n",
    "- the dataset is quite large, encompassing over 500 data points\n",
    "- All the N/A values are removed from the dataset and the response variable is transformed using a log function to have a less skewed distribution.\n",
    "    - to account for the data points where the area burned was 0, we uniformly added 1 to every data point so that the differences between the data points are retained"
   ]
  },
  {
   "cell_type": "markdown",
   "metadata": {},
   "source": [
    "In relation to research question, our null hypothesis states that we will not see a difference in the area burned between the two wind speed categories."
   ]
  },
  {
   "cell_type": "markdown",
   "metadata": {},
   "source": [
    "## Is it enough?"
   ]
  },
  {
   "cell_type": "markdown",
   "metadata": {},
   "source": [
    "The preliminary results seen seem to suggest that there may not be considerable differences in area burned when wind is categorized as high or low. "
   ]
  },
  {
   "cell_type": "markdown",
   "metadata": {},
   "source": [
    "However, the plots we produced are not enough to come to a conclusion because we do not know the significance we see in the differences in the area burned in the 2 different categories. To be able to confidently say if the results we see from the data significantly differenciates from the null hypothesis, and suggest that wind speed does have an effect on area burned we need to properly conduct a hypothesis test of the difference in means, and produce a confidence intervals around this difference in means."
   ]
  },
  {
   "cell_type": "markdown",
   "metadata": {},
   "source": [
    "## Plan for Further Research"
   ]
  },
  {
   "cell_type": "markdown",
   "metadata": {},
   "source": [
    "Our plan is to include:\n",
    "- hypothesis test around the difference in means of area burned across the two wind categories\n",
    "- a confidence interval around this difference in means\n",
    "- a bootstrap distribution pulled from our sample data \n",
    "    - which could be used to produce that confidence interval\n",
    "- calculate the p-value to find it's likelyhood under the null hypothesis\n",
    "- the t-value and compare it to the sample's t-distribution "
   ]
  },
  {
   "cell_type": "markdown",
   "metadata": {},
   "source": [
    "## Expectations"
   ]
  },
  {
   "cell_type": "markdown",
   "metadata": {},
   "source": [
    "From eyeballing the preliminary results, we don't expect to find a significant difference in means from the two categories. These results might suggest that the wind speed isn't as important to track for predicting the severity of wildfires (at least in Portugal). However, it also might point for a need for more comprehensive data over a longer span of time, or that the data collected for this sample needs to track more information about the wind's behaviour outside of the wind speed to be able to produce a better predictive model."
   ]
  },
  {
   "cell_type": "markdown",
   "metadata": {},
   "source": [
    "### Reflection"
   ]
  },
  {
   "cell_type": "markdown",
   "metadata": {},
   "source": [
    "The results from this project could signify to bodies that care about wildfires that wind speed isn't enough to be able to predict the severity of future wild fires (the dependency on this single variable is dangerous), and that there needs to be more investment in finding a property that better fits their forest."
   ]
  },
  {
   "cell_type": "markdown",
   "metadata": {},
   "source": [
    "### More Research Needed"
   ]
  },
  {
   "cell_type": "markdown",
   "metadata": {},
   "source": [
    "Is it understandable that wind speed is a relatively easy attribute to measure for wind, thus an attractive variable to depend upon for simplistic models. \n",
    "\n",
    "\n",
    "Our research could point for a need for new comprehensive methods of measuring other wind properties, which could generate questions around what are the other properties that give the most accurate results of predicting area burned. It could also point to questions whether the most predictive properties are dependent on other properties of the environment that are not wind, and include those into predictive models. "
   ]
  }
 ],
 "metadata": {
  "kernelspec": {
   "display_name": "R",
   "language": "R",
   "name": "ir"
  },
  "language_info": {
   "codemirror_mode": "r",
   "file_extension": ".r",
   "mimetype": "text/x-r-source",
   "name": "R",
   "pygments_lexer": "r",
   "version": "4.1.3"
  }
 },
 "nbformat": 4,
 "nbformat_minor": 4
}
