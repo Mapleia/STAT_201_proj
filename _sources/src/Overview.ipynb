{
 "cells": [
  {
   "cell_type": "markdown",
   "metadata": {},
   "source": [
    "# Overview"
   ]
  },
  {
   "cell_type": "markdown",
   "metadata": {},
   "source": [
    "This Jupyter book includes the setup process, the group work contract, as well as the proposal and our final submission."
   ]
  }
 ],
 "metadata": {
  "kernelspec": {
   "display_name": "R",
   "language": "R",
   "name": "ir"
  },
  "language_info": {
   "name": "R",
   "version": "3.10.6"
  },
  "orig_nbformat": 4,
  "vscode": {
   "interpreter": {
    "hash": "1a6aa2ee3c4f80a55de00fd6239e357902e74cf1f897ed06dae743e7e1e25c38"
   }
  }
 },
 "nbformat": 4,
 "nbformat_minor": 2
}
